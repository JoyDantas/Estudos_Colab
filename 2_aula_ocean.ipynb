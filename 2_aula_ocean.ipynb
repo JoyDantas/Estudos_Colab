{
  "nbformat": 4,
  "nbformat_minor": 0,
  "metadata": {
    "colab": {
      "name": "2_aula_ocean.ipynb",
      "provenance": [],
      "authorship_tag": "ABX9TyOOKPyytAUUu3ezpkH8z++b",
      "include_colab_link": true
    },
    "kernelspec": {
      "name": "python3",
      "display_name": "Python 3"
    },
    "language_info": {
      "name": "python"
    }
  },
  "cells": [
    {
      "cell_type": "markdown",
      "metadata": {
        "id": "view-in-github",
        "colab_type": "text"
      },
      "source": [
        "<a href=\"https://colab.research.google.com/github/JoyDantas/Estudos_Colab/blob/main/2_aula_ocean.ipynb\" target=\"_parent\"><img src=\"https://colab.research.google.com/assets/colab-badge.svg\" alt=\"Open In Colab\"/></a>"
      ]
    },
    {
      "cell_type": "markdown",
      "metadata": {
        "id": "RRetEH04ttaL"
      },
      "source": [
        "# Para formatação de string, incluimos o **f** antes de começar o texto com tudo entre **' '** e a variavel em **{}**. \n",
        "\n",
        "# O valor formatado fica entre {} e o que deve ser concatenado (formatado) fica antes do f. "
      ]
    },
    {
      "cell_type": "markdown",
      "metadata": {
        "id": "W3xMfxbfV8Ls"
      },
      "source": [
        "Para concatenar valores utilizamos o +, pórem só conseguimos concatenar variaveis iguais, string e string, numeric e numeric. "
      ]
    },
    {
      "cell_type": "code",
      "metadata": {
        "id": "zyhmP2PSY7IN"
      },
      "source": [
        "num = '50'\n"
      ],
      "execution_count": 9,
      "outputs": []
    },
    {
      "cell_type": "code",
      "metadata": {
        "colab": {
          "base_uri": "https://localhost:8080/"
        },
        "id": "rkISVfuEZAlo",
        "outputId": "04ab85b2-b53a-40a1-b830-2ecb25efed74"
      },
      "source": [
        "type(num)"
      ],
      "execution_count": 10,
      "outputs": [
        {
          "output_type": "execute_result",
          "data": {
            "text/plain": [
              "str"
            ]
          },
          "metadata": {},
          "execution_count": 10
        }
      ]
    },
    {
      "cell_type": "code",
      "metadata": {
        "id": "IpUt4OpkZePS"
      },
      "source": [
        "teste_conver = float(num)"
      ],
      "execution_count": 11,
      "outputs": []
    },
    {
      "cell_type": "code",
      "metadata": {
        "colab": {
          "base_uri": "https://localhost:8080/"
        },
        "id": "Y3DOAgq1aE9F",
        "outputId": "75d12b57-3313-438a-b980-72f641df05f9"
      },
      "source": [
        "type(teste_conver)"
      ],
      "execution_count": 12,
      "outputs": [
        {
          "output_type": "execute_result",
          "data": {
            "text/plain": [
              "float"
            ]
          },
          "metadata": {},
          "execution_count": 12
        }
      ]
    },
    {
      "cell_type": "code",
      "metadata": {
        "colab": {
          "base_uri": "https://localhost:8080/"
        },
        "id": "vWDEl57waeWw",
        "outputId": "cf742d67-6b26-47f3-d7a5-d95ed4886c02"
      },
      "source": [
        "## tudo que fazemos com string \n",
        "\n",
        "nome = 'joys'\n",
        "sobrenome = 'dantas'\n",
        "num = '50.5'\n",
        "type(nome) # tipo de dado\n",
        "len(sobrenome) # tamanho da string\n",
        "print(nome + sobrenome) #concatenação"
      ],
      "execution_count": 14,
      "outputs": [
        {
          "output_type": "stream",
          "name": "stdout",
          "text": [
            "joysdantas\n"
          ]
        }
      ]
    },
    {
      "cell_type": "code",
      "metadata": {
        "colab": {
          "base_uri": "https://localhost:8080/"
        },
        "id": "0MOf-Cosa7AV",
        "outputId": "eaf06a89-5b0b-4413-9fa5-935260c9581c"
      },
      "source": [
        "## Sustituindo uma substring por outra string com o replace \n",
        "\n",
        "meu_nome = nome.replace('joys','Joys')\n",
        "print(meu_nome)"
      ],
      "execution_count": 15,
      "outputs": [
        {
          "output_type": "stream",
          "name": "stdout",
          "text": [
            "Joys\n"
          ]
        }
      ]
    },
    {
      "cell_type": "code",
      "metadata": {
        "colab": {
          "base_uri": "https://localhost:8080/"
        },
        "id": "MYa1CSPAeAQl",
        "outputId": "a5b87d3b-d84c-4024-d3ee-6badaeb9132a"
      },
      "source": [
        "print(nome.count(nome)) #conta\n",
        "print(len(nome)) ## tamanho da string\n",
        "print(nome.upper())## tudo maiusculo\n",
        "print(nome.capitalize()) # primeira linha \n"
      ],
      "execution_count": 24,
      "outputs": [
        {
          "output_type": "stream",
          "name": "stdout",
          "text": [
            "1\n",
            "4\n",
            "JOYS\n",
            "Joys\n"
          ]
        }
      ]
    },
    {
      "cell_type": "markdown",
      "metadata": {
        "id": "1xtEz4pGfg8H"
      },
      "source": [
        "# Operadores aritméticos \n"
      ]
    },
    {
      "cell_type": "code",
      "metadata": {
        "colab": {
          "base_uri": "https://localhost:8080/"
        },
        "id": "DKWzFl7xfmGM",
        "outputId": "4e2cf869-ef1a-49ae-cb3d-821e2bd89311"
      },
      "source": [
        "print( 5 + 5) # soma\n",
        "print( 85 - 70)# subtração \n",
        "print( 8 * 2) # multiplicação \n",
        "print( 5 / 2) #divisão \n",
        "\n",
        "print (4**4) # potenciação \n",
        "print( 5 // 2) # retorna sempre um numero inteiro \n",
        "print(6 % 2) # retorna o resto da divisao"
      ],
      "execution_count": 26,
      "outputs": [
        {
          "output_type": "stream",
          "name": "stdout",
          "text": [
            "10\n",
            "15\n",
            "16\n",
            "2.5\n",
            "256\n",
            "2\n",
            "0\n"
          ]
        }
      ]
    },
    {
      "cell_type": "code",
      "metadata": {
        "colab": {
          "base_uri": "https://localhost:8080/"
        },
        "id": "Vvycr2E6g_GZ",
        "outputId": "f7f9b561-c676-4486-e8d6-f77f1e8e028a"
      },
      "source": [
        "import math ## biblioteca para operações matematicas \n",
        "numero = 9 \n",
        "print(math.sqrt(numero))"
      ],
      "execution_count": 27,
      "outputs": [
        {
          "output_type": "stream",
          "name": "stdout",
          "text": [
            "3.0\n"
          ]
        }
      ]
    },
    {
      "cell_type": "markdown",
      "metadata": {
        "id": "_AQMQ-OnlNIU"
      },
      "source": [
        "# Função **Input**"
      ]
    },
    {
      "cell_type": "code",
      "metadata": {
        "colab": {
          "base_uri": "https://localhost:8080/"
        },
        "id": "NObzcNgOfgEg",
        "outputId": "2fa69d26-7d67-4791-fea9-11a789932900"
      },
      "source": [
        "  ## queremos q o usuario entre com dados na nossa aplicação e cada linguagem tem sua forma, mas geralmente utilizamos a função input()\n",
        "\n",
        "  nome_entrada = input('Digite o seu nome:')\n",
        "  idade = int(input(\"Digite sua idade\")) ## fornçando a pessoa a entrar com um valor inteiro \n"
      ],
      "execution_count": 33,
      "outputs": [
        {
          "name": "stdout",
          "output_type": "stream",
          "text": [
            "Digite o seu nome:Joys\n",
            "Digite sua idade25\n"
          ]
        }
      ]
    },
    {
      "cell_type": "code",
      "metadata": {
        "colab": {
          "base_uri": "https://localhost:8080/"
        },
        "id": "Szm1pFYpmKi9",
        "outputId": "451a5d42-17c9-4d28-ca40-3a63921e4591"
      },
      "source": [
        "print(nome_entrada)"
      ],
      "execution_count": 32,
      "outputs": [
        {
          "output_type": "stream",
          "name": "stdout",
          "text": [
            "Joys Dantas\n"
          ]
        }
      ]
    },
    {
      "cell_type": "markdown",
      "metadata": {
        "id": "_8-Dj-nspfHO"
      },
      "source": [
        "\n",
        "# Exercício: \n",
        "# Escreva um programa no qual o usuário entre com o valor do carro e o valor do \n",
        "# IPVA a ser pago seja impresso. "
      ]
    },
    {
      "cell_type": "code",
      "metadata": {
        "colab": {
          "base_uri": "https://localhost:8080/"
        },
        "id": "gj2na5JspKqM",
        "outputId": "c766ad38-f701-4f0c-f9f8-1623122998fe"
      },
      "source": [
        "valor_carro = float(input('Digite o valor do Carro: R$'))\n",
        "print(f'O valor a ser pago será de: R$ {valor_carro*0.04}')"
      ],
      "execution_count": 39,
      "outputs": [
        {
          "output_type": "stream",
          "name": "stdout",
          "text": [
            "Digite o valor do Carro: R$25000\n",
            "O valor a ser pago será de: R$ 1000.0\n"
          ]
        }
      ]
    },
    {
      "cell_type": "markdown",
      "metadata": {
        "id": "3GjRF4L-ualA"
      },
      "source": [
        "# Laços, repetições e operadores condicionais"
      ]
    },
    {
      "cell_type": "code",
      "metadata": {
        "colab": {
          "base_uri": "https://localhost:8080/"
        },
        "id": "dpKIVd9zunMa",
        "outputId": "bde90fa8-3438-450f-c398-01aad053cef3"
      },
      "source": [
        "idade = int(input('Digite sua idade: \\n'))\n",
        "amigo = str(input('Você é amigo do dono: \\n'))\n",
        "amigo = amigo.upper()\n",
        "\n",
        "if idade > 18 or amigo == 'SIM': \n",
        "  print('Pode entrar!')\n",
        "else:\n",
        "  print('Vá para a casa')"
      ],
      "execution_count": 47,
      "outputs": [
        {
          "output_type": "stream",
          "name": "stdout",
          "text": [
            "Digite sua idade: \n",
            "17\n",
            "Você é amigo do dono: \n",
            "sim\n",
            "Pode entrar!\n"
          ]
        }
      ]
    },
    {
      "cell_type": "markdown",
      "metadata": {
        "id": "GSj86GTezOPc"
      },
      "source": [
        "# Mais operadores\n"
      ]
    },
    {
      "cell_type": "code",
      "metadata": {
        "colab": {
          "base_uri": "https://localhost:8080/"
        },
        "id": "y2jwNPiGybmZ",
        "outputId": "06a25e67-6891-4db6-f580-4e5e8b3adfd8"
      },
      "source": [
        "a = 1 \n",
        "a += 10 \n",
        "print(a)"
      ],
      "execution_count": 48,
      "outputs": [
        {
          "output_type": "stream",
          "name": "stdout",
          "text": [
            "11\n"
          ]
        }
      ]
    },
    {
      "cell_type": "code",
      "metadata": {
        "colab": {
          "base_uri": "https://localhost:8080/"
        },
        "id": "7307JUBczSnN",
        "outputId": "8fdd7f42-bbc9-4963-b495-1c3f30a10258"
      },
      "source": [
        "b = 5 \n",
        "b-= 3\n",
        "print(b)"
      ],
      "execution_count": 50,
      "outputs": [
        {
          "output_type": "stream",
          "name": "stdout",
          "text": [
            "2\n"
          ]
        }
      ]
    },
    {
      "cell_type": "code",
      "metadata": {
        "colab": {
          "base_uri": "https://localhost:8080/"
        },
        "id": "6e5v-14VzgFM",
        "outputId": "61a218ed-7426-4d59-836f-b68ebfc20283"
      },
      "source": [
        "c = 10 \n",
        "c *=2\n",
        "print(c)"
      ],
      "execution_count": 51,
      "outputs": [
        {
          "output_type": "stream",
          "name": "stdout",
          "text": [
            "20\n"
          ]
        }
      ]
    },
    {
      "cell_type": "markdown",
      "metadata": {
        "id": "bbOQ-ugp0sNp"
      },
      "source": [
        "# Operadores de Comparação \n"
      ]
    },
    {
      "cell_type": "code",
      "metadata": {
        "colab": {
          "base_uri": "https://localhost:8080/"
        },
        "id": "G17tRWjB0vAT",
        "outputId": "752c60fd-da31-491d-da18-dd45f58dcbd5"
      },
      "source": [
        "print( 7 == 7 ) # representa igualdade\n",
        "print('texto'=='texto')\n",
        "print('Texto'=='texto')\n",
        "\n",
        "print(21>20) # maior\n",
        "print(8>9) # maior \n",
        "\n",
        "print(20<10) # menor\n",
        "print(10<15) # menor "
      ],
      "execution_count": 58,
      "outputs": [
        {
          "output_type": "stream",
          "name": "stdout",
          "text": [
            "True\n",
            "True\n",
            "False\n",
            "True\n",
            "False\n",
            "False\n",
            "True\n"
          ]
        }
      ]
    },
    {
      "cell_type": "markdown",
      "metadata": {
        "id": "vrAmbknf1T9c"
      },
      "source": [
        "# Import bibliotecas "
      ]
    },
    {
      "cell_type": "code",
      "metadata": {
        "colab": {
          "base_uri": "https://localhost:8080/"
        },
        "id": "0sV7znNp1DGG",
        "outputId": "d92149e8-e978-4857-fec3-f9d98557cfaf"
      },
      "source": [
        "from math import sqrt \n",
        "print(sqrt(25))\n",
        "\n",
        "from datetime import datetime, timezone\n",
        "from datetime import date\n",
        "from dateutil import tz\n",
        "import time\n",
        "\n",
        "data_hoje = date(year=2021, month=9, day=21)\n",
        "print(data_hoje)\n",
        "\n",
        "print(datetime.today()) #data atual\n",
        "print(datetime.now()) # agora \n",
        "print(datetime.now().isoformat())\n",
        "\n",
        "print(datetime.today().strftime('%d-%m-%y'))# Alterando o formato da data\n",
        "print(datetime.today().strftime('%Y-%m-%d %H:%M')) # Tirando os milesegundos\n",
        "print(datetime.today().strftime('%A, %B %d, %Y %H:%M:%S'))# Incluindo os dias da semana \n",
        "print(datetime.today(), tz.tzlocal()) # Data atual\n"
      ],
      "execution_count": 79,
      "outputs": [
        {
          "output_type": "stream",
          "name": "stdout",
          "text": [
            "5.0\n",
            "2021-09-21\n",
            "2021-09-21 15:03:26.222022\n",
            "2021-09-21 15:03:26.222148\n",
            "2021-09-21T15:03:26.222244\n",
            "21-09-21\n",
            "2021-09-21 15:03\n",
            "Tuesday, September 21, 2021 15:03:26\n",
            "2021-09-21 15:03:26.222661 tzlocal()\n"
          ]
        }
      ]
    }
  ]
}