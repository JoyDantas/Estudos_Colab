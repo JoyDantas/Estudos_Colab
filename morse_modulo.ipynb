{
  "nbformat": 4,
  "nbformat_minor": 0,
  "metadata": {
    "colab": {
      "name": "morse_modulo.ipynb",
      "provenance": [],
      "authorship_tag": "ABX9TyNjKuvLRv9KVGeWOqDxqgGI",
      "include_colab_link": true
    },
    "kernelspec": {
      "name": "python3",
      "display_name": "Python 3"
    },
    "language_info": {
      "name": "python"
    }
  },
  "cells": [
    {
      "cell_type": "markdown",
      "metadata": {
        "id": "view-in-github",
        "colab_type": "text"
      },
      "source": [
        "<a href=\"https://colab.research.google.com/github/JoyDantas/Estudos_Colab/blob/main/morse_modulo.ipynb\" target=\"_parent\"><img src=\"https://colab.research.google.com/assets/colab-badge.svg\" alt=\"Open In Colab\"/></a>"
      ]
    },
    {
      "cell_type": "code",
      "metadata": {
        "id": "-70tP8nEyAeR"
      },
      "source": [
        "letter_to_morse  =  { \n",
        "    'a' : '.-' ,  'b' : '-...' ,  'c' : '-.-.' ,  'd' : '- ..' ,  'e' : '.' ,  'f' : '..-.' ,  \n",
        "    'g' : '-.' ,  'h' : '....' ,  'i' : '..' ,  'j' : '.---' ,  'k' : '-.-' ,   \n",
        "    'n' : '-.' ,  'o' : '---' ,  'p' : '.--.' ,  'q' : '--.-' ,  'r' : '.-.' ,  's' : '...' ,  't' : '-' , \n",
        "    'u' : '..-' ,  'v' : '...-' ,  'w' : '.--' ,  'x' : '-..-' ,  'y' : \n",
        "    '-----' ,  '1' : '.----' ,  '2' : '..---' ,  '3' : '...--' ,  '4' : '. ...- ' , \n",
        "    ' 5 ' : ' ..... ' ,  ' 6 ' : ' -.... ' ,  ' 7 ' : ' --... ' ,  ' 8 ' : ' --- .. ' ,  ' 9 ' : ' ----. ' ,  '' : '/' \n",
        "}"
      ],
      "execution_count": 3,
      "outputs": []
    },
    {
      "cell_type": "code",
      "metadata": {
        "id": "95kgkyDWyH4m"
      },
      "source": [
        "def codificar (mensagem):\n",
        "  morse = []\n",
        "  for carta in mensagem:\n",
        "    carta = carta.lower()\n",
        "    morse_letter = letter_to_morse[carta]\n",
        "    morse.append(morse_letter)\n",
        "\n",
        "    morse_mensagem = ''.join(morse)\n",
        "    return morse_letter\n"
      ],
      "execution_count": 6,
      "outputs": []
    },
    {
      "cell_type": "code",
      "metadata": {
        "id": "5JgPLuNczPuK"
      },
      "source": [
        "## precisamos inverter o dicionário que pode retornar de morse para letra\n",
        "\n",
        "morse_to_leeter = {}\n",
        "\n",
        "for carta in letter_to_morse:\n",
        "  morse = letter_to_morse[carta]\n",
        "  morse_to_leeter[morse] = carta"
      ],
      "execution_count": 8,
      "outputs": []
    },
    {
      "cell_type": "code",
      "metadata": {
        "id": "TXWzTg62-LmP"
      },
      "source": [
        "def decode(mesagem):\n",
        "  english = []\n",
        "\n",
        "  ## agora vamos ler a carta. \n",
        "  # separado por espaço iremos splitar a mensagem com espaço \n",
        "\n",
        "  for carta in morse_letters: \n",
        "    english_letter = morse_to_leeter[letter]\n",
        "    english.append(english_letter)\n",
        "\n",
        "    #reunimos, mas agora não precisamos add qualquer espaço \n",
        "    english_message =''.join(english)\n",
        "    return english_message"
      ],
      "execution_count": 9,
      "outputs": []
    }
  ]
}