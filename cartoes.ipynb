{
  "nbformat": 4,
  "nbformat_minor": 0,
  "metadata": {
    "colab": {
      "name": "cartoes.ipynb",
      "provenance": [],
      "authorship_tag": "ABX9TyNRVqvNiwJa0OIl9/nABjuP",
      "include_colab_link": true
    },
    "kernelspec": {
      "name": "python3",
      "display_name": "Python 3"
    },
    "language_info": {
      "name": "python"
    }
  },
  "cells": [
    {
      "cell_type": "markdown",
      "metadata": {
        "id": "view-in-github",
        "colab_type": "text"
      },
      "source": [
        "<a href=\"https://colab.research.google.com/github/JoyDantas/Estudos_Colab/blob/main/cartoes.ipynb\" target=\"_parent\"><img src=\"https://colab.research.google.com/assets/colab-badge.svg\" alt=\"Open In Colab\"/></a>"
      ]
    },
    {
      "cell_type": "code",
      "metadata": {
        "colab": {
          "base_uri": "https://localhost:8080/"
        },
        "id": "BRc1J5ktsdEu",
        "outputId": "495cde92-7d34-4a37-e57d-b895e994a384"
      },
      "source": [
        "import pandas as pd\n",
        "!pip install --upgrade gspread ## atualizando o pacote"
      ],
      "execution_count": null,
      "outputs": [
        {
          "output_type": "stream",
          "name": "stdout",
          "text": [
            "Requirement already satisfied: gspread in /usr/local/lib/python3.7/dist-packages (4.0.1)\n",
            "Requirement already satisfied: google-auth-oauthlib>=0.4.1 in /usr/local/lib/python3.7/dist-packages (from gspread) (0.4.6)\n",
            "Requirement already satisfied: google-auth>=1.12.0 in /usr/local/lib/python3.7/dist-packages (from gspread) (1.35.0)\n",
            "Requirement already satisfied: pyasn1-modules>=0.2.1 in /usr/local/lib/python3.7/dist-packages (from google-auth>=1.12.0->gspread) (0.2.8)\n",
            "Requirement already satisfied: six>=1.9.0 in /usr/local/lib/python3.7/dist-packages (from google-auth>=1.12.0->gspread) (1.15.0)\n",
            "Requirement already satisfied: setuptools>=40.3.0 in /usr/local/lib/python3.7/dist-packages (from google-auth>=1.12.0->gspread) (57.4.0)\n",
            "Requirement already satisfied: rsa<5,>=3.1.4 in /usr/local/lib/python3.7/dist-packages (from google-auth>=1.12.0->gspread) (4.7.2)\n",
            "Requirement already satisfied: cachetools<5.0,>=2.0.0 in /usr/local/lib/python3.7/dist-packages (from google-auth>=1.12.0->gspread) (4.2.4)\n",
            "Requirement already satisfied: requests-oauthlib>=0.7.0 in /usr/local/lib/python3.7/dist-packages (from google-auth-oauthlib>=0.4.1->gspread) (1.3.0)\n",
            "Requirement already satisfied: pyasn1<0.5.0,>=0.4.6 in /usr/local/lib/python3.7/dist-packages (from pyasn1-modules>=0.2.1->google-auth>=1.12.0->gspread) (0.4.8)\n",
            "Requirement already satisfied: oauthlib>=3.0.0 in /usr/local/lib/python3.7/dist-packages (from requests-oauthlib>=0.7.0->google-auth-oauthlib>=0.4.1->gspread) (3.1.1)\n",
            "Requirement already satisfied: requests>=2.0.0 in /usr/local/lib/python3.7/dist-packages (from requests-oauthlib>=0.7.0->google-auth-oauthlib>=0.4.1->gspread) (2.23.0)\n",
            "Requirement already satisfied: certifi>=2017.4.17 in /usr/local/lib/python3.7/dist-packages (from requests>=2.0.0->requests-oauthlib>=0.7.0->google-auth-oauthlib>=0.4.1->gspread) (2021.10.8)\n",
            "Requirement already satisfied: idna<3,>=2.5 in /usr/local/lib/python3.7/dist-packages (from requests>=2.0.0->requests-oauthlib>=0.7.0->google-auth-oauthlib>=0.4.1->gspread) (2.10)\n",
            "Requirement already satisfied: chardet<4,>=3.0.2 in /usr/local/lib/python3.7/dist-packages (from requests>=2.0.0->requests-oauthlib>=0.7.0->google-auth-oauthlib>=0.4.1->gspread) (3.0.4)\n",
            "Requirement already satisfied: urllib3!=1.25.0,!=1.25.1,<1.26,>=1.21.1 in /usr/local/lib/python3.7/dist-packages (from requests>=2.0.0->requests-oauthlib>=0.7.0->google-auth-oauthlib>=0.4.1->gspread) (1.24.3)\n"
          ]
        }
      ]
    },
    {
      "cell_type": "code",
      "metadata": {
        "id": "wG75hPB4s3AF"
      },
      "source": [
        "from google.colab import auth\n",
        "auth.authenticate_user()\n",
        "\n",
        "import gspread\n",
        "from oauth2client.client import GoogleCredentials\n",
        "\n",
        "gc = gspread.authorize(GoogleCredentials.get_application_default())"
      ],
      "execution_count": null,
      "outputs": []
    },
    {
      "cell_type": "code",
      "metadata": {
        "id": "A0SJXF87tNSj"
      },
      "source": [
        "cartoes = gc.open(\"Itaú Institucional | Cartões | 2021\")"
      ],
      "execution_count": null,
      "outputs": []
    },
    {
      "cell_type": "code",
      "metadata": {
        "id": "sl47gy_dzyjI"
      },
      "source": [
        "cartoes_wkb = cartoes.worksheet('Workbook')"
      ],
      "execution_count": null,
      "outputs": []
    },
    {
      "cell_type": "code",
      "metadata": {
        "id": "TpIMREYczyjI"
      },
      "source": [
        "## transformando e data frame \n",
        "\n",
        "df_cartoes = pd.DataFrame(cartoes_wkb.get_all_records())"
      ],
      "execution_count": null,
      "outputs": []
    },
    {
      "cell_type": "code",
      "metadata": {
        "id": "ffHPFU1yzyjI"
      },
      "source": [
        "# selecionando colunas\n",
        "\n",
        "df_cartoes_selecionadas = df_cartoes.filter(['Data', 'Produto', 'Veículo', 'Descrição da Campanha',\n",
        "                                                 'Formato', 'Investimento', 'Impressões', 'Cliques no link', 'Video Views', 'Views 100%'])"
      ],
      "execution_count": null,
      "outputs": []
    },
    {
      "cell_type": "code",
      "metadata": {
        "colab": {
          "base_uri": "https://localhost:8080/"
        },
        "id": "JfbdJ37_zyjI",
        "outputId": "1881b2d9-6b31-4932-b36c-ef874314ad61"
      },
      "source": [
        "df_cartoes_selecionadas.info()"
      ],
      "execution_count": null,
      "outputs": [
        {
          "output_type": "stream",
          "name": "stdout",
          "text": [
            "<class 'pandas.core.frame.DataFrame'>\n",
            "RangeIndex: 8411 entries, 0 to 8410\n",
            "Data columns (total 10 columns):\n",
            " #   Column                 Non-Null Count  Dtype \n",
            "---  ------                 --------------  ----- \n",
            " 0   Data                   8411 non-null   object\n",
            " 1   Produto                8411 non-null   object\n",
            " 2   Veículo                8411 non-null   object\n",
            " 3   Descrição da Campanha  8411 non-null   object\n",
            " 4   Formato                8411 non-null   object\n",
            " 5   Investimento           8411 non-null   object\n",
            " 6   Impressões             8411 non-null   object\n",
            " 7   Cliques no link        8411 non-null   object\n",
            " 8   Video Views            8411 non-null   object\n",
            " 9   Views 100%             8411 non-null   object\n",
            "dtypes: object(10)\n",
            "memory usage: 657.2+ KB\n"
          ]
        }
      ]
    },
    {
      "cell_type": "code",
      "metadata": {
        "id": "MO7CCJPdzyjJ"
      },
      "source": [
        "## trocando formato dos dados\n",
        "\n",
        "df_cartoes_selecionadas['Impressões'] = pd.to_numeric(df_cartoes_selecionadas['Impressões'])\n",
        "df_cartoes_selecionadas['Investimento'] = pd.to_numeric(df_cartoes_selecionadas['Investimento'])\n",
        "df_cartoes_selecionadas['Cliques no link'] = pd.to_numeric(df_cartoes_selecionadas['Cliques no link'])\n",
        "df_cartoes_selecionadas['Video Views'] = pd.to_numeric(df_cartoes_selecionadas['Video Views'])\n",
        "df_cartoes_selecionadas['Views 100%'] = pd.to_numeric(df_cartoes_selecionadas['Views 100%'])\n"
      ],
      "execution_count": null,
      "outputs": []
    },
    {
      "cell_type": "code",
      "metadata": {
        "colab": {
          "base_uri": "https://localhost:8080/"
        },
        "id": "c95_l_UTzyjJ",
        "outputId": "7598d65d-d549-4639-bfff-4dc4f1adf9e4"
      },
      "source": [
        "df_cartoes_selecionadas.info()"
      ],
      "execution_count": null,
      "outputs": [
        {
          "output_type": "stream",
          "name": "stdout",
          "text": [
            "<class 'pandas.core.frame.DataFrame'>\n",
            "RangeIndex: 8411 entries, 0 to 8410\n",
            "Data columns (total 10 columns):\n",
            " #   Column                 Non-Null Count  Dtype  \n",
            "---  ------                 --------------  -----  \n",
            " 0   Data                   8411 non-null   object \n",
            " 1   Produto                8411 non-null   object \n",
            " 2   Veículo                8411 non-null   object \n",
            " 3   Descrição da Campanha  8411 non-null   object \n",
            " 4   Formato                8411 non-null   object \n",
            " 5   Investimento           2806 non-null   float64\n",
            " 6   Impressões             2834 non-null   float64\n",
            " 7   Cliques no link        2834 non-null   float64\n",
            " 8   Video Views            2603 non-null   float64\n",
            " 9   Views 100%             2603 non-null   float64\n",
            "dtypes: float64(5), object(5)\n",
            "memory usage: 657.2+ KB\n"
          ]
        }
      ]
    },
    {
      "cell_type": "code",
      "metadata": {
        "id": "55AMXg3yzyjJ"
      },
      "source": [
        "## selecionando veiculo\n",
        "selecionadas_g = df_cartoes_selecionadas.loc[(df_cartoes_selecionadas[\"Veículo\"] == \"google-ads\")]\n",
        "selecionadas_f = df_cartoes_selecionadas.loc[(df_cartoes_selecionadas[\"Veículo\"] == \"facebook\")]                                          \n",
        "selecionadas_i = df_cartoes_selecionadas.loc[(df_cartoes_selecionadas[\"Veículo\"]== \"instagram\")]\n",
        "selecionadas_y = df_cartoes_selecionadas.loc[(df_cartoes_selecionadas[\"Veículo\"]== \"youtube\")]"
      ],
      "execution_count": null,
      "outputs": []
    },
    {
      "cell_type": "code",
      "metadata": {
        "id": "gqMQ3EcYzyjK"
      },
      "source": [
        "concat_g_f_i_y = [selecionadas_i,selecionadas_g,selecionadas_f,selecionadas_y]\n",
        "concat_g_f_i_y = pd.concat(concat_g_f_i_y)"
      ],
      "execution_count": null,
      "outputs": []
    },
    {
      "cell_type": "code",
      "metadata": {
        "colab": {
          "base_uri": "https://localhost:8080/"
        },
        "id": "C4OpYRA4zyjK",
        "outputId": "e62351bd-4a28-41c7-99d7-79deacec53bf"
      },
      "source": [
        "concat_g_f_i_y.info()"
      ],
      "execution_count": null,
      "outputs": [
        {
          "output_type": "stream",
          "name": "stdout",
          "text": [
            "<class 'pandas.core.frame.DataFrame'>\n",
            "Int64Index: 4050 entries, 1 to 5003\n",
            "Data columns (total 10 columns):\n",
            " #   Column                 Non-Null Count  Dtype  \n",
            "---  ------                 --------------  -----  \n",
            " 0   Data                   4050 non-null   object \n",
            " 1   Produto                4050 non-null   object \n",
            " 2   Veículo                4050 non-null   object \n",
            " 3   Descrição da Campanha  4050 non-null   object \n",
            " 4   Formato                4050 non-null   object \n",
            " 5   Investimento           1391 non-null   float64\n",
            " 6   Impressões             1391 non-null   float64\n",
            " 7   Cliques no link        1391 non-null   float64\n",
            " 8   Video Views            1391 non-null   float64\n",
            " 9   Views 100%             1391 non-null   float64\n",
            "dtypes: float64(5), object(5)\n",
            "memory usage: 348.0+ KB\n"
          ]
        }
      ]
    },
    {
      "cell_type": "code",
      "metadata": {
        "colab": {
          "base_uri": "https://localhost:8080/",
          "height": 423
        },
        "id": "pUknDVjbzyjL",
        "outputId": "4b01e696-8707-4a50-8321-aad9ea2016b6"
      },
      "source": [
        "# Tratamento taxonomia\n",
        "# primeiro selecionando os resultados\n",
        "\n",
        "concat_g_f_i_y.loc[(concat_g_f_i_y[\"Produto\"] == \"_nao-se-aplica\")]"
      ],
      "execution_count": null,
      "outputs": [
        {
          "output_type": "execute_result",
          "data": {
            "text/html": [
              "<div>\n",
              "<style scoped>\n",
              "    .dataframe tbody tr th:only-of-type {\n",
              "        vertical-align: middle;\n",
              "    }\n",
              "\n",
              "    .dataframe tbody tr th {\n",
              "        vertical-align: top;\n",
              "    }\n",
              "\n",
              "    .dataframe thead th {\n",
              "        text-align: right;\n",
              "    }\n",
              "</style>\n",
              "<table border=\"1\" class=\"dataframe\">\n",
              "  <thead>\n",
              "    <tr style=\"text-align: right;\">\n",
              "      <th></th>\n",
              "      <th>Data</th>\n",
              "      <th>Produto</th>\n",
              "      <th>Veículo</th>\n",
              "      <th>Descrição da Campanha</th>\n",
              "      <th>Formato</th>\n",
              "      <th>Investimento</th>\n",
              "      <th>Impressões</th>\n",
              "      <th>Cliques no link</th>\n",
              "      <th>Video Views</th>\n",
              "      <th>Views 100%</th>\n",
              "    </tr>\n",
              "  </thead>\n",
              "  <tbody>\n",
              "    <tr>\n",
              "      <th>1</th>\n",
              "      <td>6/23/2021</td>\n",
              "      <td>_nao-se-aplica</td>\n",
              "      <td>google-ads</td>\n",
              "      <td>Vertical Cartões 2021</td>\n",
              "      <td>banner</td>\n",
              "      <td>8.26</td>\n",
              "      <td>3561.0</td>\n",
              "      <td>4.0</td>\n",
              "      <td>0.0</td>\n",
              "      <td>0.0</td>\n",
              "    </tr>\n",
              "    <tr>\n",
              "      <th>2</th>\n",
              "      <td>6/23/2021</td>\n",
              "      <td>_nao-se-aplica</td>\n",
              "      <td>google-ads</td>\n",
              "      <td>Vertical Cartões 2021</td>\n",
              "      <td>banner</td>\n",
              "      <td>39.21</td>\n",
              "      <td>17941.0</td>\n",
              "      <td>42.0</td>\n",
              "      <td>0.0</td>\n",
              "      <td>0.0</td>\n",
              "    </tr>\n",
              "    <tr>\n",
              "      <th>3</th>\n",
              "      <td>6/23/2021</td>\n",
              "      <td>_nao-se-aplica</td>\n",
              "      <td>google-ads</td>\n",
              "      <td>Vertical Cartões 2021</td>\n",
              "      <td>banner</td>\n",
              "      <td>989.35</td>\n",
              "      <td>121606.0</td>\n",
              "      <td>678.0</td>\n",
              "      <td>0.0</td>\n",
              "      <td>0.0</td>\n",
              "    </tr>\n",
              "    <tr>\n",
              "      <th>4</th>\n",
              "      <td>6/23/2021</td>\n",
              "      <td>_nao-se-aplica</td>\n",
              "      <td>google-ads</td>\n",
              "      <td>Vertical Cartões 2021</td>\n",
              "      <td>banner</td>\n",
              "      <td>70.53</td>\n",
              "      <td>15967.0</td>\n",
              "      <td>70.0</td>\n",
              "      <td>0.0</td>\n",
              "      <td>0.0</td>\n",
              "    </tr>\n",
              "    <tr>\n",
              "      <th>5</th>\n",
              "      <td>6/23/2021</td>\n",
              "      <td>_nao-se-aplica</td>\n",
              "      <td>google-ads</td>\n",
              "      <td>Vertical Cartões 2021</td>\n",
              "      <td>banner</td>\n",
              "      <td>46.82</td>\n",
              "      <td>15816.0</td>\n",
              "      <td>61.0</td>\n",
              "      <td>0.0</td>\n",
              "      <td>0.0</td>\n",
              "    </tr>\n",
              "    <tr>\n",
              "      <th>...</th>\n",
              "      <td>...</td>\n",
              "      <td>...</td>\n",
              "      <td>...</td>\n",
              "      <td>...</td>\n",
              "      <td>...</td>\n",
              "      <td>...</td>\n",
              "      <td>...</td>\n",
              "      <td>...</td>\n",
              "      <td>...</td>\n",
              "      <td>...</td>\n",
              "    </tr>\n",
              "    <tr>\n",
              "      <th>4939</th>\n",
              "      <td>8/6/2021</td>\n",
              "      <td>_nao-se-aplica</td>\n",
              "      <td>youtube</td>\n",
              "      <td>Vertical Cartões 2021</td>\n",
              "      <td>video-ad</td>\n",
              "      <td>NaN</td>\n",
              "      <td>NaN</td>\n",
              "      <td>NaN</td>\n",
              "      <td>NaN</td>\n",
              "      <td>NaN</td>\n",
              "    </tr>\n",
              "    <tr>\n",
              "      <th>4992</th>\n",
              "      <td>8/6/2021</td>\n",
              "      <td>_nao-se-aplica</td>\n",
              "      <td>youtube</td>\n",
              "      <td>Vertical Cartões 2021</td>\n",
              "      <td>trueview</td>\n",
              "      <td>NaN</td>\n",
              "      <td>NaN</td>\n",
              "      <td>NaN</td>\n",
              "      <td>NaN</td>\n",
              "      <td>NaN</td>\n",
              "    </tr>\n",
              "    <tr>\n",
              "      <th>5000</th>\n",
              "      <td>8/6/2021</td>\n",
              "      <td>_nao-se-aplica</td>\n",
              "      <td>youtube</td>\n",
              "      <td>Vertical Cartões 2021</td>\n",
              "      <td>video-ad</td>\n",
              "      <td>NaN</td>\n",
              "      <td>NaN</td>\n",
              "      <td>NaN</td>\n",
              "      <td>NaN</td>\n",
              "      <td>NaN</td>\n",
              "    </tr>\n",
              "    <tr>\n",
              "      <th>5002</th>\n",
              "      <td>8/6/2021</td>\n",
              "      <td>_nao-se-aplica</td>\n",
              "      <td>youtube</td>\n",
              "      <td>Vertical Cartões 2021</td>\n",
              "      <td>video-ad</td>\n",
              "      <td>NaN</td>\n",
              "      <td>NaN</td>\n",
              "      <td>NaN</td>\n",
              "      <td>NaN</td>\n",
              "      <td>NaN</td>\n",
              "    </tr>\n",
              "    <tr>\n",
              "      <th>5003</th>\n",
              "      <td>8/6/2021</td>\n",
              "      <td>_nao-se-aplica</td>\n",
              "      <td>youtube</td>\n",
              "      <td>Vertical Cartões 2021</td>\n",
              "      <td>video-ad</td>\n",
              "      <td>NaN</td>\n",
              "      <td>NaN</td>\n",
              "      <td>NaN</td>\n",
              "      <td>NaN</td>\n",
              "      <td>NaN</td>\n",
              "    </tr>\n",
              "  </tbody>\n",
              "</table>\n",
              "<p>4050 rows × 10 columns</p>\n",
              "</div>"
            ],
            "text/plain": [
              "           Data         Produto  ... Video Views Views 100%\n",
              "1     6/23/2021  _nao-se-aplica  ...         0.0        0.0\n",
              "2     6/23/2021  _nao-se-aplica  ...         0.0        0.0\n",
              "3     6/23/2021  _nao-se-aplica  ...         0.0        0.0\n",
              "4     6/23/2021  _nao-se-aplica  ...         0.0        0.0\n",
              "5     6/23/2021  _nao-se-aplica  ...         0.0        0.0\n",
              "...         ...             ...  ...         ...        ...\n",
              "4939   8/6/2021  _nao-se-aplica  ...         NaN        NaN\n",
              "4992   8/6/2021  _nao-se-aplica  ...         NaN        NaN\n",
              "5000   8/6/2021  _nao-se-aplica  ...         NaN        NaN\n",
              "5002   8/6/2021  _nao-se-aplica  ...         NaN        NaN\n",
              "5003   8/6/2021  _nao-se-aplica  ...         NaN        NaN\n",
              "\n",
              "[4050 rows x 10 columns]"
            ]
          },
          "metadata": {},
          "execution_count": 15
        }
      ]
    },
    {
      "cell_type": "code",
      "metadata": {
        "id": "PtsmhagBzyjL"
      },
      "source": [
        "\n",
        "# replace produto\n",
        "cartoes_tratado = concat_g_f_i_y.replace([\"Produto\", \"_nao-se-aplica\"], \"Cartoes\")\n"
      ],
      "execution_count": null,
      "outputs": []
    },
    {
      "cell_type": "code",
      "metadata": {
        "colab": {
          "base_uri": "https://localhost:8080/",
          "height": 206
        },
        "id": "un12zhZYzyjL",
        "outputId": "7a5000e4-8010-4b71-bd62-8fe2baeb6d3e"
      },
      "source": [
        "cartoes_tratado.head()"
      ],
      "execution_count": null,
      "outputs": [
        {
          "output_type": "execute_result",
          "data": {
            "text/html": [
              "<div>\n",
              "<style scoped>\n",
              "    .dataframe tbody tr th:only-of-type {\n",
              "        vertical-align: middle;\n",
              "    }\n",
              "\n",
              "    .dataframe tbody tr th {\n",
              "        vertical-align: top;\n",
              "    }\n",
              "\n",
              "    .dataframe thead th {\n",
              "        text-align: right;\n",
              "    }\n",
              "</style>\n",
              "<table border=\"1\" class=\"dataframe\">\n",
              "  <thead>\n",
              "    <tr style=\"text-align: right;\">\n",
              "      <th></th>\n",
              "      <th>Data</th>\n",
              "      <th>Produto</th>\n",
              "      <th>Veículo</th>\n",
              "      <th>Descrição da Campanha</th>\n",
              "      <th>Formato</th>\n",
              "      <th>Investimento</th>\n",
              "      <th>Impressões</th>\n",
              "      <th>Cliques no link</th>\n",
              "      <th>Video Views</th>\n",
              "      <th>Views 100%</th>\n",
              "    </tr>\n",
              "  </thead>\n",
              "  <tbody>\n",
              "    <tr>\n",
              "      <th>1</th>\n",
              "      <td>6/23/2021</td>\n",
              "      <td>Cartoes</td>\n",
              "      <td>google-ads</td>\n",
              "      <td>Vertical Cartões 2021</td>\n",
              "      <td>banner</td>\n",
              "      <td>8.26</td>\n",
              "      <td>3561.0</td>\n",
              "      <td>4.0</td>\n",
              "      <td>0.0</td>\n",
              "      <td>0.0</td>\n",
              "    </tr>\n",
              "    <tr>\n",
              "      <th>2</th>\n",
              "      <td>6/23/2021</td>\n",
              "      <td>Cartoes</td>\n",
              "      <td>google-ads</td>\n",
              "      <td>Vertical Cartões 2021</td>\n",
              "      <td>banner</td>\n",
              "      <td>39.21</td>\n",
              "      <td>17941.0</td>\n",
              "      <td>42.0</td>\n",
              "      <td>0.0</td>\n",
              "      <td>0.0</td>\n",
              "    </tr>\n",
              "    <tr>\n",
              "      <th>3</th>\n",
              "      <td>6/23/2021</td>\n",
              "      <td>Cartoes</td>\n",
              "      <td>google-ads</td>\n",
              "      <td>Vertical Cartões 2021</td>\n",
              "      <td>banner</td>\n",
              "      <td>989.35</td>\n",
              "      <td>121606.0</td>\n",
              "      <td>678.0</td>\n",
              "      <td>0.0</td>\n",
              "      <td>0.0</td>\n",
              "    </tr>\n",
              "    <tr>\n",
              "      <th>4</th>\n",
              "      <td>6/23/2021</td>\n",
              "      <td>Cartoes</td>\n",
              "      <td>google-ads</td>\n",
              "      <td>Vertical Cartões 2021</td>\n",
              "      <td>banner</td>\n",
              "      <td>70.53</td>\n",
              "      <td>15967.0</td>\n",
              "      <td>70.0</td>\n",
              "      <td>0.0</td>\n",
              "      <td>0.0</td>\n",
              "    </tr>\n",
              "    <tr>\n",
              "      <th>5</th>\n",
              "      <td>6/23/2021</td>\n",
              "      <td>Cartoes</td>\n",
              "      <td>google-ads</td>\n",
              "      <td>Vertical Cartões 2021</td>\n",
              "      <td>banner</td>\n",
              "      <td>46.82</td>\n",
              "      <td>15816.0</td>\n",
              "      <td>61.0</td>\n",
              "      <td>0.0</td>\n",
              "      <td>0.0</td>\n",
              "    </tr>\n",
              "  </tbody>\n",
              "</table>\n",
              "</div>"
            ],
            "text/plain": [
              "        Data  Produto     Veículo  ... Cliques no link Video Views  Views 100%\n",
              "1  6/23/2021  Cartoes  google-ads  ...             4.0         0.0         0.0\n",
              "2  6/23/2021  Cartoes  google-ads  ...            42.0         0.0         0.0\n",
              "3  6/23/2021  Cartoes  google-ads  ...           678.0         0.0         0.0\n",
              "4  6/23/2021  Cartoes  google-ads  ...            70.0         0.0         0.0\n",
              "5  6/23/2021  Cartoes  google-ads  ...            61.0         0.0         0.0\n",
              "\n",
              "[5 rows x 10 columns]"
            ]
          },
          "metadata": {},
          "execution_count": 17
        }
      ]
    },
    {
      "cell_type": "code",
      "metadata": {
        "id": "bFFXITK2zyjL"
      },
      "source": [
        "#cartoes_tratado.loc[(concat_g_f_i[\"Produto\"] == \"(not set)\")]"
      ],
      "execution_count": null,
      "outputs": []
    },
    {
      "cell_type": "code",
      "metadata": {
        "id": "rOKsPgCnzyjL"
      },
      "source": [
        "#cartoes_tratado = concat_g_f_i.replace([\"Produto\", \"(not set)\"], \"Crédito Imobiliário\")"
      ],
      "execution_count": null,
      "outputs": []
    },
    {
      "cell_type": "code",
      "metadata": {
        "id": "lq7xd67TzyjM"
      },
      "source": [
        "#concat_g_f_i.loc[(concat_g_f_i[\"Produto\"] == \"ip-investimentos\")]"
      ],
      "execution_count": null,
      "outputs": []
    },
    {
      "cell_type": "code",
      "metadata": {
        "id": "wUysD-VRzyjM"
      },
      "source": [
        "#cartoes_tratado = concat_g_f_i.replace([\"Produto\", \"ip-investimentos\"], \"Investimentos\")"
      ],
      "execution_count": null,
      "outputs": []
    },
    {
      "cell_type": "code",
      "metadata": {
        "id": "gSQ1QIIPzyjM"
      },
      "source": [
        "#cartoes_tratado.head()"
      ],
      "execution_count": null,
      "outputs": []
    },
    {
      "cell_type": "code",
      "metadata": {
        "id": "Tkjtp29SzyjM"
      },
      "source": [
        "# tratando o veículo\n",
        "\n",
        "cartoes_tratado = cartoes_tratado.replace([\"Veículo\", \"facebook\"], \"Facebook\")\n",
        "cartoes_tratado = cartoes_tratado.replace([\"Veículo\", \"google-ads\"], \"Google-ads\")\n",
        "cartoes_tratado = cartoes_tratado.replace([\"Veículo\", \"instagram\"], \"Instagram\")\n",
        "cartoes_tratado = cartoes_tratado.replace([\"Veículo\", \"youtube\"], \"Youtube\")"
      ],
      "execution_count": null,
      "outputs": []
    },
    {
      "cell_type": "code",
      "metadata": {
        "colab": {
          "base_uri": "https://localhost:8080/",
          "height": 174
        },
        "id": "fXz6sqsRzyjM",
        "outputId": "12507863-7ffa-48e8-8600-b348e9911b38"
      },
      "source": [
        "cartoes_tratado.groupby('Veículo').count()"
      ],
      "execution_count": null,
      "outputs": [
        {
          "output_type": "execute_result",
          "data": {
            "text/html": [
              "<div>\n",
              "<style scoped>\n",
              "    .dataframe tbody tr th:only-of-type {\n",
              "        vertical-align: middle;\n",
              "    }\n",
              "\n",
              "    .dataframe tbody tr th {\n",
              "        vertical-align: top;\n",
              "    }\n",
              "\n",
              "    .dataframe thead th {\n",
              "        text-align: right;\n",
              "    }\n",
              "</style>\n",
              "<table border=\"1\" class=\"dataframe\">\n",
              "  <thead>\n",
              "    <tr style=\"text-align: right;\">\n",
              "      <th></th>\n",
              "      <th>Data</th>\n",
              "      <th>Produto</th>\n",
              "      <th>Descrição da Campanha</th>\n",
              "      <th>Formato</th>\n",
              "      <th>Investimento</th>\n",
              "      <th>Impressões</th>\n",
              "      <th>Cliques no link</th>\n",
              "      <th>Video Views</th>\n",
              "      <th>Views 100%</th>\n",
              "    </tr>\n",
              "    <tr>\n",
              "      <th>Veículo</th>\n",
              "      <th></th>\n",
              "      <th></th>\n",
              "      <th></th>\n",
              "      <th></th>\n",
              "      <th></th>\n",
              "      <th></th>\n",
              "      <th></th>\n",
              "      <th></th>\n",
              "      <th></th>\n",
              "    </tr>\n",
              "  </thead>\n",
              "  <tbody>\n",
              "    <tr>\n",
              "      <th>Facebook</th>\n",
              "      <td>1155</td>\n",
              "      <td>1155</td>\n",
              "      <td>1155</td>\n",
              "      <td>1155</td>\n",
              "      <td>477</td>\n",
              "      <td>477</td>\n",
              "      <td>477</td>\n",
              "      <td>477</td>\n",
              "      <td>477</td>\n",
              "    </tr>\n",
              "    <tr>\n",
              "      <th>Google-ads</th>\n",
              "      <td>2181</td>\n",
              "      <td>2181</td>\n",
              "      <td>2181</td>\n",
              "      <td>2181</td>\n",
              "      <td>537</td>\n",
              "      <td>537</td>\n",
              "      <td>537</td>\n",
              "      <td>537</td>\n",
              "      <td>537</td>\n",
              "    </tr>\n",
              "    <tr>\n",
              "      <th>Youtube</th>\n",
              "      <td>714</td>\n",
              "      <td>714</td>\n",
              "      <td>714</td>\n",
              "      <td>714</td>\n",
              "      <td>377</td>\n",
              "      <td>377</td>\n",
              "      <td>377</td>\n",
              "      <td>377</td>\n",
              "      <td>377</td>\n",
              "    </tr>\n",
              "  </tbody>\n",
              "</table>\n",
              "</div>"
            ],
            "text/plain": [
              "            Data  Produto  ...  Video Views  Views 100%\n",
              "Veículo                    ...                         \n",
              "Facebook    1155     1155  ...          477         477\n",
              "Google-ads  2181     2181  ...          537         537\n",
              "Youtube      714      714  ...          377         377\n",
              "\n",
              "[3 rows x 9 columns]"
            ]
          },
          "metadata": {},
          "execution_count": 24
        }
      ]
    },
    {
      "cell_type": "code",
      "metadata": {
        "id": "eOAFdhPzzyjM"
      },
      "source": [
        "# exportando para excel \n",
        "cartoes_tratado.to_excel(\"cartoes.xls\",index=False)"
      ],
      "execution_count": null,
      "outputs": []
    },
    {
      "cell_type": "code",
      "metadata": {
        "id": "mfh8ARcBzyjM"
      },
      "source": [
        "# exportando para csv \n",
        "#cartoes_tratado.to_csv(\"investimento_mar.xls\",sep='\\t',encoding=\"utf-8\")"
      ],
      "execution_count": null,
      "outputs": []
    }
  ]
}