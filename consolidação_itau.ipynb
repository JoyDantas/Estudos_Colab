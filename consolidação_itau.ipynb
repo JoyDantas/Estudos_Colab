{
  "nbformat": 4,
  "nbformat_minor": 0,
  "metadata": {
    "colab": {
      "name": "consolidação_itau.ipynb",
      "provenance": [],
      "mount_file_id": "1ButA9hxctVGsV7geoZxYVZOdmTBbjeQ6",
      "authorship_tag": "ABX9TyOjkHR7yFfjqJhETaRCErl0",
      "include_colab_link": true
    },
    "kernelspec": {
      "name": "python3",
      "display_name": "Python 3"
    },
    "language_info": {
      "name": "python"
    }
  },
  "cells": [
    {
      "cell_type": "markdown",
      "metadata": {
        "id": "view-in-github",
        "colab_type": "text"
      },
      "source": [
        "<a href=\"https://colab.research.google.com/github/JoyDantas/Estudos_Colab/blob/main/consolida%C3%A7%C3%A3o_itau.ipynb\" target=\"_parent\"><img src=\"https://colab.research.google.com/assets/colab-badge.svg\" alt=\"Open In Colab\"/></a>"
      ]
    },
    {
      "cell_type": "code",
      "metadata": {
        "id": "dElwIO9pXSd9"
      },
      "source": [
        "import pandas as pd\n"
      ],
      "execution_count": null,
      "outputs": []
    },
    {
      "cell_type": "code",
      "metadata": {
        "id": "n0hmiJAbrpxQ"
      },
      "source": [
        "cons_nov = pd.read_excel('/content/drive/MyDrive/Kantar/consorcio_nov.xls')\n",
        "cons_set = pd.read_excel('/content/drive/MyDrive/Kantar/consorcio_set.xls')\n",
        "cons_ago = pd.read_excel('/content/drive/MyDrive/Kantar/consorcio_agosto.xls')\n",
        "cons_mai = pd.read_excel('/content/drive/MyDrive/Kantar/consorcio_maio.xls')  \n",
        "invest_mar = pd.read_excel('/content/drive/MyDrive/Kantar/investimento_mar.xls')\n",
        "invest_set = pd.read_excel('/content/drive/MyDrive/Kantar/investimento_set.xls')\n",
        "cred_imob_h = pd.read_excel('/content/drive/MyDrive/Kantar/credito_imobiliario_horizontal.xls')\n",
        "cred_imob_v = pd.read_excel('/content/drive/MyDrive/Kantar/credito_imobiliario_vertical.xls')\n",
        "ion = pd.read_excel('/content/drive/MyDrive/Kantar/ion.xls')\n",
        "asset = pd.read_excel('/content/drive/MyDrive/Kantar/asset.xls')\n",
        "credicard = pd.read_excel('/content/drive/MyDrive/Kantar/credicard.xls')\n",
        "itaucard = pd.read_excel('/content/drive/MyDrive/Kantar/itaucard.xls')\n",
        "isso_mud_o_game = pd.read_excel('/content/drive/MyDrive/Kantar/isso_muda_o_game.xls')\n",
        "folha = pd.read_excel('/content/drive/MyDrive/Kantar/folha_pagamento.xls')\n",
        "cartoes = pd.read_excel('/content/drive/MyDrive/Kantar/cartoes.xls')\n",
        "vai_de_visa = pd.read_excel('/content/drive/MyDrive/Kantar/vai_de_visa.xls')\n",
        "rede = pd.read_excel('/content/drive/MyDrive/Kantar/rede.xls')"
      ],
      "execution_count": null,
      "outputs": []
    },
    {
      "cell_type": "code",
      "metadata": {
        "id": "-Mhfeh0IXuk8"
      },
      "source": [
        "concat_frames = [cons_nov,cons_set, cons_ago,cons_mai,invest_mar,invest_set,cred_imob_h,cred_imob_v,ion,asset,credicard,itaucard,isso_mud_o_game,folha,cartoes,vai_de_visa,rede]"
      ],
      "execution_count": null,
      "outputs": []
    },
    {
      "cell_type": "code",
      "metadata": {
        "id": "BvSUQgFpX0WG"
      },
      "source": [
        "consolidado_kantar = pd.concat(concat_frames)"
      ],
      "execution_count": null,
      "outputs": []
    },
    {
      "cell_type": "code",
      "metadata": {
        "colab": {
          "base_uri": "https://localhost:8080/"
        },
        "id": "gos0jd79RwKA",
        "outputId": "effbb4ff-bc14-466b-b5b9-564ae7961ab4"
      },
      "source": [
        "## conferindo formatos\n",
        "consolidado_kantar.info()"
      ],
      "execution_count": null,
      "outputs": [
        {
          "output_type": "stream",
          "name": "stdout",
          "text": [
            "<class 'pandas.core.frame.DataFrame'>\n",
            "Int64Index: 192515 entries, 0 to 1705\n",
            "Data columns (total 10 columns):\n",
            " #   Column                 Non-Null Count   Dtype  \n",
            "---  ------                 --------------   -----  \n",
            " 0   Data                   192515 non-null  object \n",
            " 1   Produto                192515 non-null  object \n",
            " 2   Veículo                192515 non-null  object \n",
            " 3   Descrição da Campanha  192305 non-null  object \n",
            " 4   Formato                192515 non-null  object \n",
            " 5   Investimento           126892 non-null  object \n",
            " 6   Impressões             112015 non-null  float64\n",
            " 7   Cliques no link        98325 non-null   float64\n",
            " 8   Video Views            126974 non-null  float64\n",
            " 9   Views 100%             127005 non-null  float64\n",
            "dtypes: float64(4), object(6)\n",
            "memory usage: 16.2+ MB\n"
          ]
        }
      ]
    },
    {
      "cell_type": "code",
      "metadata": {
        "colab": {
          "base_uri": "https://localhost:8080/"
        },
        "id": "4wN-Orwrmlfw",
        "outputId": "c1f2190e-ff45-4444-c267-634c7a5e5edd"
      },
      "source": [
        "## contando valores null\n",
        "print(consolidado_kantar[consolidado_kantar['Investimento'].isnull()])\n"
      ],
      "execution_count": null,
      "outputs": [
        {
          "output_type": "stream",
          "name": "stdout",
          "text": [
            "            Data         Produto  ... Video Views Views 100%\n",
            "45    2021-08-02       Consórcio  ...         nan        nan\n",
            "46    2021-08-02       Consórcio  ...         nan        nan\n",
            "47    2021-08-02       Consórcio  ...         nan        nan\n",
            "48    2021-08-02       Consórcio  ...         nan        nan\n",
            "49    2021-08-02       Consórcio  ...         nan        nan\n",
            "...          ...             ...  ...         ...        ...\n",
            "1701  11/15/2021  Rede Normativa  ...         nan        nan\n",
            "1702  11/16/2021  Rede Normativa  ...         nan        nan\n",
            "1703  11/17/2021  Rede Normativa  ...         nan        nan\n",
            "1704  11/19/2021  Rede Normativa  ...         nan        nan\n",
            "1705  11/22/2021  Rede Normativa  ...         nan        nan\n",
            "\n",
            "[65623 rows x 10 columns]\n"
          ]
        }
      ]
    },
    {
      "cell_type": "code",
      "metadata": {
        "id": "E5X_ilXcm2iL"
      },
      "source": [
        "consolidado_kantar['Investimento'] = pd.to_numeric(consolidado_kantar['Investimento'], errors='coerce')\n"
      ],
      "execution_count": null,
      "outputs": []
    },
    {
      "cell_type": "code",
      "metadata": {
        "id": "ekNx2HwVm_bX"
      },
      "source": [
        "## excluindo valores faltantes \n",
        "consolidado_kantar = consolidado_kantar.dropna(subset=['Investimento'])\n"
      ],
      "execution_count": null,
      "outputs": []
    },
    {
      "cell_type": "code",
      "metadata": {
        "id": "7OahXNlNkZir"
      },
      "source": [
        "consolidado_kantar['Investimento'] = pd.to_numeric(consolidado_kantar['Investimento'])"
      ],
      "execution_count": null,
      "outputs": []
    },
    {
      "cell_type": "code",
      "metadata": {
        "id": "dYXCF9FTszTB"
      },
      "source": [
        "## tranformando em float\n",
        "consolidado_kantar['Investimento'] = consolidado_kantar['Investimento'].apply(lambda x: str(x).replace('.', ','))"
      ],
      "execution_count": null,
      "outputs": []
    },
    {
      "cell_type": "code",
      "metadata": {
        "colab": {
          "base_uri": "https://localhost:8080/"
        },
        "id": "-5pXbHoQpTYm",
        "outputId": "98bceb84-9292-4afe-f1c6-758a6ce754a5"
      },
      "source": [
        "consolidado_kantar.info()"
      ],
      "execution_count": null,
      "outputs": [
        {
          "output_type": "stream",
          "name": "stdout",
          "text": [
            "<class 'pandas.core.frame.DataFrame'>\n",
            "Int64Index: 123589 entries, 0 to 1563\n",
            "Data columns (total 10 columns):\n",
            " #   Column                 Non-Null Count   Dtype  \n",
            "---  ------                 --------------   -----  \n",
            " 0   Data                   123589 non-null  object \n",
            " 1   Produto                123589 non-null  object \n",
            " 2   Veículo                123589 non-null  object \n",
            " 3   Descrição da Campanha  123589 non-null  object \n",
            " 4   Formato                123589 non-null  object \n",
            " 5   Investimento           123589 non-null  object \n",
            " 6   Impressões             108470 non-null  float64\n",
            " 7   Cliques no link        94780 non-null   float64\n",
            " 8   Video Views            123429 non-null  float64\n",
            " 9   Views 100%             123460 non-null  float64\n",
            "dtypes: float64(4), object(6)\n",
            "memory usage: 10.4+ MB\n"
          ]
        }
      ]
    },
    {
      "cell_type": "code",
      "metadata": {
        "colab": {
          "base_uri": "https://localhost:8080/",
          "height": 206
        },
        "id": "F2RO45sKcyAU",
        "outputId": "bc31c1da-5f10-4bc0-cd44-a47b34d188b4"
      },
      "source": [
        "consolidado_kantar.head()"
      ],
      "execution_count": null,
      "outputs": [
        {
          "output_type": "execute_result",
          "data": {
            "text/html": [
              "<div>\n",
              "<style scoped>\n",
              "    .dataframe tbody tr th:only-of-type {\n",
              "        vertical-align: middle;\n",
              "    }\n",
              "\n",
              "    .dataframe tbody tr th {\n",
              "        vertical-align: top;\n",
              "    }\n",
              "\n",
              "    .dataframe thead th {\n",
              "        text-align: right;\n",
              "    }\n",
              "</style>\n",
              "<table border=\"1\" class=\"dataframe\">\n",
              "  <thead>\n",
              "    <tr style=\"text-align: right;\">\n",
              "      <th></th>\n",
              "      <th>Data</th>\n",
              "      <th>Produto</th>\n",
              "      <th>Veículo</th>\n",
              "      <th>Descrição da Campanha</th>\n",
              "      <th>Formato</th>\n",
              "      <th>Investimento</th>\n",
              "      <th>Impressões</th>\n",
              "      <th>Cliques no link</th>\n",
              "      <th>Video Views</th>\n",
              "      <th>Views 100%</th>\n",
              "    </tr>\n",
              "  </thead>\n",
              "  <tbody>\n",
              "    <tr>\n",
              "      <th>0</th>\n",
              "      <td>2021-11-11</td>\n",
              "      <td>Consórcio</td>\n",
              "      <td>Instagram</td>\n",
              "      <td>Consórcio 2021</td>\n",
              "      <td>stories</td>\n",
              "      <td>3,99</td>\n",
              "      <td>287.00</td>\n",
              "      <td>1.00</td>\n",
              "      <td>17.00</td>\n",
              "      <td>9.00</td>\n",
              "    </tr>\n",
              "    <tr>\n",
              "      <th>1</th>\n",
              "      <td>2021-11-11</td>\n",
              "      <td>Consórcio</td>\n",
              "      <td>Instagram</td>\n",
              "      <td>Consórcio 2021</td>\n",
              "      <td>stories</td>\n",
              "      <td>192,87</td>\n",
              "      <td>7185.00</td>\n",
              "      <td>50.00</td>\n",
              "      <td>668.00</td>\n",
              "      <td>213.00</td>\n",
              "    </tr>\n",
              "    <tr>\n",
              "      <th>2</th>\n",
              "      <td>2021-11-11</td>\n",
              "      <td>Consórcio</td>\n",
              "      <td>Instagram</td>\n",
              "      <td>Consórcio 2021</td>\n",
              "      <td>stories</td>\n",
              "      <td>1,14</td>\n",
              "      <td>243.00</td>\n",
              "      <td>0.00</td>\n",
              "      <td>5.00</td>\n",
              "      <td>3.00</td>\n",
              "    </tr>\n",
              "    <tr>\n",
              "      <th>3</th>\n",
              "      <td>2021-11-11</td>\n",
              "      <td>Consórcio</td>\n",
              "      <td>Instagram</td>\n",
              "      <td>Consórcio 2021</td>\n",
              "      <td>stories</td>\n",
              "      <td>8,38</td>\n",
              "      <td>222.00</td>\n",
              "      <td>3.00</td>\n",
              "      <td>35.00</td>\n",
              "      <td>15.00</td>\n",
              "    </tr>\n",
              "    <tr>\n",
              "      <th>4</th>\n",
              "      <td>2021-11-12</td>\n",
              "      <td>Consórcio</td>\n",
              "      <td>Instagram</td>\n",
              "      <td>Consórcio 2021</td>\n",
              "      <td>stories</td>\n",
              "      <td>4,23</td>\n",
              "      <td>152.00</td>\n",
              "      <td>0.00</td>\n",
              "      <td>19.00</td>\n",
              "      <td>3.00</td>\n",
              "    </tr>\n",
              "  </tbody>\n",
              "</table>\n",
              "</div>"
            ],
            "text/plain": [
              "         Data    Produto    Veículo  ... Cliques no link Video Views Views 100%\n",
              "0  2021-11-11  Consórcio  Instagram  ...            1.00       17.00       9.00\n",
              "1  2021-11-11  Consórcio  Instagram  ...           50.00      668.00     213.00\n",
              "2  2021-11-11  Consórcio  Instagram  ...            0.00        5.00       3.00\n",
              "3  2021-11-11  Consórcio  Instagram  ...            3.00       35.00      15.00\n",
              "4  2021-11-12  Consórcio  Instagram  ...            0.00       19.00       3.00\n",
              "\n",
              "[5 rows x 10 columns]"
            ]
          },
          "metadata": {},
          "execution_count": 140
        }
      ]
    },
    {
      "cell_type": "code",
      "metadata": {
        "id": "QmdOWRzSX0XN"
      },
      "source": [
        "#consolidado_kantar.to_csv('consolidado_kantar.csv',sep='\\t', encoding=\"utf-8\")\n",
        "#pd.set_option('float_format', '{:.2f}'.format)\n"
      ],
      "execution_count": null,
      "outputs": []
    },
    {
      "cell_type": "code",
      "metadata": {
        "id": "qU9vg9mshsE_"
      },
      "source": [
        "consolidado_kantar.to_csv('consolidado_kantar_a.csv',float_format='%.f', index=False, header=True)\n",
        "#df.to_csv('test.out', float_format = '%.2f', index = False, header = False)\n"
      ],
      "execution_count": null,
      "outputs": []
    }
  ]
}