{
  "nbformat": 4,
  "nbformat_minor": 0,
  "metadata": {
    "colab": {
      "name": "consorcio maio.ipynb",
      "provenance": [],
      "collapsed_sections": [],
      "mount_file_id": "1HaPfKeaNuqKC-mDyNW8VZnOekTkuoPO5",
      "authorship_tag": "ABX9TyPd2ZtY/HERCmkT50jZ83Ea",
      "include_colab_link": true
    },
    "kernelspec": {
      "name": "python3",
      "display_name": "Python 3"
    },
    "language_info": {
      "name": "python"
    }
  },
  "cells": [
    {
      "cell_type": "markdown",
      "metadata": {
        "id": "view-in-github",
        "colab_type": "text"
      },
      "source": [
        "<a href=\"https://colab.research.google.com/github/JoyDantas/Estudos_Colab/blob/main/consorcio_maio.ipynb\" target=\"_parent\"><img src=\"https://colab.research.google.com/assets/colab-badge.svg\" alt=\"Open In Colab\"/></a>"
      ]
    },
    {
      "cell_type": "code",
      "metadata": {
        "colab": {
          "base_uri": "https://localhost:8080/"
        },
        "id": "1t0qQ6ctal3y",
        "outputId": "870e6481-55fb-4ca7-d3f6-b9c9b95d838e"
      },
      "source": [
        "import pandas as pd\n",
        "import numpy as np\n",
        "!pip install --upgrade gspread ## atualizando o pacote"
      ],
      "execution_count": null,
      "outputs": [
        {
          "output_type": "stream",
          "name": "stdout",
          "text": [
            "Requirement already satisfied: gspread in /usr/local/lib/python3.7/dist-packages (4.0.1)\n",
            "Requirement already satisfied: google-auth>=1.12.0 in /usr/local/lib/python3.7/dist-packages (from gspread) (1.35.0)\n",
            "Requirement already satisfied: google-auth-oauthlib>=0.4.1 in /usr/local/lib/python3.7/dist-packages (from gspread) (0.4.6)\n",
            "Requirement already satisfied: six>=1.9.0 in /usr/local/lib/python3.7/dist-packages (from google-auth>=1.12.0->gspread) (1.15.0)\n",
            "Requirement already satisfied: pyasn1-modules>=0.2.1 in /usr/local/lib/python3.7/dist-packages (from google-auth>=1.12.0->gspread) (0.2.8)\n",
            "Requirement already satisfied: rsa<5,>=3.1.4 in /usr/local/lib/python3.7/dist-packages (from google-auth>=1.12.0->gspread) (4.7.2)\n",
            "Requirement already satisfied: setuptools>=40.3.0 in /usr/local/lib/python3.7/dist-packages (from google-auth>=1.12.0->gspread) (57.4.0)\n",
            "Requirement already satisfied: cachetools<5.0,>=2.0.0 in /usr/local/lib/python3.7/dist-packages (from google-auth>=1.12.0->gspread) (4.2.4)\n",
            "Requirement already satisfied: requests-oauthlib>=0.7.0 in /usr/local/lib/python3.7/dist-packages (from google-auth-oauthlib>=0.4.1->gspread) (1.3.0)\n",
            "Requirement already satisfied: pyasn1<0.5.0,>=0.4.6 in /usr/local/lib/python3.7/dist-packages (from pyasn1-modules>=0.2.1->google-auth>=1.12.0->gspread) (0.4.8)\n",
            "Requirement already satisfied: requests>=2.0.0 in /usr/local/lib/python3.7/dist-packages (from requests-oauthlib>=0.7.0->google-auth-oauthlib>=0.4.1->gspread) (2.23.0)\n",
            "Requirement already satisfied: oauthlib>=3.0.0 in /usr/local/lib/python3.7/dist-packages (from requests-oauthlib>=0.7.0->google-auth-oauthlib>=0.4.1->gspread) (3.1.1)\n",
            "Requirement already satisfied: urllib3!=1.25.0,!=1.25.1,<1.26,>=1.21.1 in /usr/local/lib/python3.7/dist-packages (from requests>=2.0.0->requests-oauthlib>=0.7.0->google-auth-oauthlib>=0.4.1->gspread) (1.24.3)\n",
            "Requirement already satisfied: chardet<4,>=3.0.2 in /usr/local/lib/python3.7/dist-packages (from requests>=2.0.0->requests-oauthlib>=0.7.0->google-auth-oauthlib>=0.4.1->gspread) (3.0.4)\n",
            "Requirement already satisfied: idna<3,>=2.5 in /usr/local/lib/python3.7/dist-packages (from requests>=2.0.0->requests-oauthlib>=0.7.0->google-auth-oauthlib>=0.4.1->gspread) (2.10)\n",
            "Requirement already satisfied: certifi>=2017.4.17 in /usr/local/lib/python3.7/dist-packages (from requests>=2.0.0->requests-oauthlib>=0.7.0->google-auth-oauthlib>=0.4.1->gspread) (2021.10.8)\n"
          ]
        }
      ]
    },
    {
      "cell_type": "code",
      "metadata": {
        "id": "XDri4YuBbAk_"
      },
      "source": [
        "from google.colab import auth\n",
        "auth.authenticate_user()\n",
        "\n",
        "import gspread\n",
        "from oauth2client.client import GoogleCredentials\n",
        "\n",
        "gc = gspread.authorize(GoogleCredentials.get_application_default())"
      ],
      "execution_count": null,
      "outputs": []
    },
    {
      "cell_type": "code",
      "metadata": {
        "id": "lgnfWQFxbBil"
      },
      "source": [
        "consorcio_mai = gc.open(\"Itaú Institucional | Consórcio | 2021 (Mai-Julho)\")"
      ],
      "execution_count": null,
      "outputs": []
    },
    {
      "cell_type": "code",
      "metadata": {
        "id": "dxitiK24bRXO"
      },
      "source": [
        "consorcio_wkb = consorcio_mai.worksheet('Workbook')"
      ],
      "execution_count": null,
      "outputs": []
    },
    {
      "cell_type": "code",
      "metadata": {
        "id": "zO_dpVe-bWIm"
      },
      "source": [
        "## transformando e data frame \n",
        "\n",
        "df_consorcio = pd.DataFrame(consorcio_wkb.get_all_records())"
      ],
      "execution_count": null,
      "outputs": []
    },
    {
      "cell_type": "code",
      "metadata": {
        "id": "UnJ04Oauba4a"
      },
      "source": [
        "# selecionando colunas\n",
        "\n",
        "df_consorcio_selecionadas = df_consorcio.filter(['Data', 'Produto', 'Veículo', 'Descrição da Campanha',\n",
        "                                                 'Formato', 'Investimento', 'Impressões', 'Cliques no link', 'Video Views', 'Views 100%'])"
      ],
      "execution_count": null,
      "outputs": []
    },
    {
      "cell_type": "code",
      "metadata": {
        "colab": {
          "base_uri": "https://localhost:8080/"
        },
        "id": "AUzwJaxIbdnT",
        "outputId": "601288e0-55a5-4b95-ef33-ab409ab86d06"
      },
      "source": [
        "df_consorcio_selecionadas.info()"
      ],
      "execution_count": null,
      "outputs": [
        {
          "output_type": "stream",
          "name": "stdout",
          "text": [
            "<class 'pandas.core.frame.DataFrame'>\n",
            "RangeIndex: 68329 entries, 0 to 68328\n",
            "Data columns (total 10 columns):\n",
            " #   Column                 Non-Null Count  Dtype \n",
            "---  ------                 --------------  ----- \n",
            " 0   Data                   68329 non-null  object\n",
            " 1   Produto                68329 non-null  object\n",
            " 2   Veículo                68329 non-null  object\n",
            " 3   Descrição da Campanha  68329 non-null  object\n",
            " 4   Formato                68329 non-null  object\n",
            " 5   Investimento           68329 non-null  object\n",
            " 6   Impressões             68329 non-null  object\n",
            " 7   Cliques no link        68329 non-null  object\n",
            " 8   Video Views            68329 non-null  object\n",
            " 9   Views 100%             68329 non-null  object\n",
            "dtypes: object(10)\n",
            "memory usage: 5.2+ MB\n"
          ]
        }
      ]
    },
    {
      "cell_type": "code",
      "metadata": {
        "id": "6wf4-uXzbe_K"
      },
      "source": [
        "## trocando formato dos dados\n",
        "\n",
        "df_consorcio_selecionadas['Impressões'] = pd.to_numeric(df_consorcio_selecionadas['Impressões'])\n",
        "df_consorcio_selecionadas['Investimento'] = pd.to_numeric(df_consorcio_selecionadas['Investimento'])\n",
        "df_consorcio_selecionadas['Cliques no link'] = pd.to_numeric(df_consorcio_selecionadas['Cliques no link'])\n",
        "df_consorcio_selecionadas['Video Views'] = pd.to_numeric(df_consorcio_selecionadas['Video Views'])\n",
        "df_consorcio_selecionadas['Views 100%'] = pd.to_numeric(df_consorcio_selecionadas['Views 100%'])\n"
      ],
      "execution_count": null,
      "outputs": []
    },
    {
      "cell_type": "code",
      "metadata": {
        "colab": {
          "base_uri": "https://localhost:8080/"
        },
        "id": "Irgt2r3jd4nV",
        "outputId": "04de80c6-a000-4b46-b646-c7f88928dc83"
      },
      "source": [
        "df_consorcio_selecionadas.info()"
      ],
      "execution_count": null,
      "outputs": [
        {
          "output_type": "stream",
          "name": "stdout",
          "text": [
            "<class 'pandas.core.frame.DataFrame'>\n",
            "RangeIndex: 68329 entries, 0 to 68328\n",
            "Data columns (total 10 columns):\n",
            " #   Column                 Non-Null Count  Dtype  \n",
            "---  ------                 --------------  -----  \n",
            " 0   Data                   68329 non-null  object \n",
            " 1   Produto                68329 non-null  object \n",
            " 2   Veículo                68329 non-null  object \n",
            " 3   Descrição da Campanha  68329 non-null  object \n",
            " 4   Formato                68329 non-null  object \n",
            " 5   Investimento           39880 non-null  float64\n",
            " 6   Impressões             39880 non-null  float64\n",
            " 7   Cliques no link        39880 non-null  float64\n",
            " 8   Video Views            39880 non-null  float64\n",
            " 9   Views 100%             39880 non-null  float64\n",
            "dtypes: float64(5), object(5)\n",
            "memory usage: 5.2+ MB\n"
          ]
        }
      ]
    },
    {
      "cell_type": "code",
      "metadata": {
        "id": "qoJsRkksd6dH"
      },
      "source": [
        "## selecionando veiculo\n",
        "selecionadas_g = df_consorcio_selecionadas.loc[(df_consorcio_selecionadas[\"Veículo\"] == \"google-ads\")]\n",
        "selecionadas_f = df_consorcio_selecionadas.loc[(df_consorcio_selecionadas[\"Veículo\"] == \"facebook\")]                                          \n",
        "selecionadas_i = df_consorcio_selecionadas.loc[(df_consorcio_selecionadas[\"Veículo\"]== \"instagram\")]\n",
        "selecionadas_y = df_consorcio_selecionadas.loc[(df_consorcio_selecionadas[\"Veículo\"]== \"youtube\")]"
      ],
      "execution_count": null,
      "outputs": []
    },
    {
      "cell_type": "code",
      "metadata": {
        "id": "0R2MvW9ud91J"
      },
      "source": [
        "concat_g_f_i = [selecionadas_i,selecionadas_g,selecionadas_f,selecionadas_y]\n",
        "concat_g_f_i= pd.concat(concat_g_f_i)"
      ],
      "execution_count": null,
      "outputs": []
    },
    {
      "cell_type": "code",
      "metadata": {
        "colab": {
          "base_uri": "https://localhost:8080/"
        },
        "id": "6G-zeXyDeADJ",
        "outputId": "5232d076-944d-4576-ed43-3eefdd60ab8d"
      },
      "source": [
        "concat_g_f_i.info()"
      ],
      "execution_count": null,
      "outputs": [
        {
          "output_type": "stream",
          "name": "stdout",
          "text": [
            "<class 'pandas.core.frame.DataFrame'>\n",
            "Int64Index: 68261 entries, 8745 to 68328\n",
            "Data columns (total 10 columns):\n",
            " #   Column                 Non-Null Count  Dtype  \n",
            "---  ------                 --------------  -----  \n",
            " 0   Data                   68261 non-null  object \n",
            " 1   Produto                68261 non-null  object \n",
            " 2   Veículo                68261 non-null  object \n",
            " 3   Descrição da Campanha  68261 non-null  object \n",
            " 4   Formato                68261 non-null  object \n",
            " 5   Investimento           39880 non-null  float64\n",
            " 6   Impressões             39880 non-null  float64\n",
            " 7   Cliques no link        39880 non-null  float64\n",
            " 8   Video Views            39880 non-null  float64\n",
            " 9   Views 100%             39880 non-null  float64\n",
            "dtypes: float64(5), object(5)\n",
            "memory usage: 5.7+ MB\n"
          ]
        }
      ]
    },
    {
      "cell_type": "code",
      "metadata": {
        "colab": {
          "base_uri": "https://localhost:8080/",
          "height": 423
        },
        "id": "35FXR18LeBn2",
        "outputId": "4d990b96-7b9c-4114-d648-69829b506030"
      },
      "source": [
        "# Tratamento taxonomia\n",
        "# primeiro selecionando os resultados\n",
        "\n",
        "concat_g_f_i.loc[(concat_g_f_i[\"Produto\"] == \"_nao-se-aplica\")]"
      ],
      "execution_count": null,
      "outputs": [
        {
          "output_type": "execute_result",
          "data": {
            "text/html": [
              "<div>\n",
              "<style scoped>\n",
              "    .dataframe tbody tr th:only-of-type {\n",
              "        vertical-align: middle;\n",
              "    }\n",
              "\n",
              "    .dataframe tbody tr th {\n",
              "        vertical-align: top;\n",
              "    }\n",
              "\n",
              "    .dataframe thead th {\n",
              "        text-align: right;\n",
              "    }\n",
              "</style>\n",
              "<table border=\"1\" class=\"dataframe\">\n",
              "  <thead>\n",
              "    <tr style=\"text-align: right;\">\n",
              "      <th></th>\n",
              "      <th>Data</th>\n",
              "      <th>Produto</th>\n",
              "      <th>Veículo</th>\n",
              "      <th>Descrição da Campanha</th>\n",
              "      <th>Formato</th>\n",
              "      <th>Investimento</th>\n",
              "      <th>Impressões</th>\n",
              "      <th>Cliques no link</th>\n",
              "      <th>Video Views</th>\n",
              "      <th>Views 100%</th>\n",
              "    </tr>\n",
              "  </thead>\n",
              "  <tbody>\n",
              "    <tr>\n",
              "      <th>8745</th>\n",
              "      <td>2021-05-31</td>\n",
              "      <td>_nao-se-aplica</td>\n",
              "      <td>instagram</td>\n",
              "      <td>Consórcio 2021</td>\n",
              "      <td>stories</td>\n",
              "      <td>257.95</td>\n",
              "      <td>17273.0</td>\n",
              "      <td>20.0</td>\n",
              "      <td>611.0</td>\n",
              "      <td>180.0</td>\n",
              "    </tr>\n",
              "    <tr>\n",
              "      <th>8746</th>\n",
              "      <td>2021-05-31</td>\n",
              "      <td>_nao-se-aplica</td>\n",
              "      <td>instagram</td>\n",
              "      <td>Consórcio 2021</td>\n",
              "      <td>stories</td>\n",
              "      <td>195.83</td>\n",
              "      <td>14978.0</td>\n",
              "      <td>15.0</td>\n",
              "      <td>515.0</td>\n",
              "      <td>139.0</td>\n",
              "    </tr>\n",
              "    <tr>\n",
              "      <th>8747</th>\n",
              "      <td>2021-05-31</td>\n",
              "      <td>_nao-se-aplica</td>\n",
              "      <td>instagram</td>\n",
              "      <td>Consórcio 2021</td>\n",
              "      <td>stories</td>\n",
              "      <td>84.82</td>\n",
              "      <td>5054.0</td>\n",
              "      <td>6.0</td>\n",
              "      <td>178.0</td>\n",
              "      <td>40.0</td>\n",
              "    </tr>\n",
              "    <tr>\n",
              "      <th>8748</th>\n",
              "      <td>2021-05-31</td>\n",
              "      <td>_nao-se-aplica</td>\n",
              "      <td>instagram</td>\n",
              "      <td>Consórcio 2021</td>\n",
              "      <td>stories</td>\n",
              "      <td>69.61</td>\n",
              "      <td>4883.0</td>\n",
              "      <td>5.0</td>\n",
              "      <td>207.0</td>\n",
              "      <td>53.0</td>\n",
              "    </tr>\n",
              "    <tr>\n",
              "      <th>8749</th>\n",
              "      <td>2021-05-31</td>\n",
              "      <td>_nao-se-aplica</td>\n",
              "      <td>instagram</td>\n",
              "      <td>Consórcio 2021</td>\n",
              "      <td>stories</td>\n",
              "      <td>117.03</td>\n",
              "      <td>22125.0</td>\n",
              "      <td>25.0</td>\n",
              "      <td>764.0</td>\n",
              "      <td>211.0</td>\n",
              "    </tr>\n",
              "    <tr>\n",
              "      <th>...</th>\n",
              "      <td>...</td>\n",
              "      <td>...</td>\n",
              "      <td>...</td>\n",
              "      <td>...</td>\n",
              "      <td>...</td>\n",
              "      <td>...</td>\n",
              "      <td>...</td>\n",
              "      <td>...</td>\n",
              "      <td>...</td>\n",
              "      <td>...</td>\n",
              "    </tr>\n",
              "    <tr>\n",
              "      <th>67834</th>\n",
              "      <td>2021-07-30</td>\n",
              "      <td>_nao-se-aplica</td>\n",
              "      <td>youtube</td>\n",
              "      <td>Consórcio 2021</td>\n",
              "      <td>trueview</td>\n",
              "      <td>65.14</td>\n",
              "      <td>4561.0</td>\n",
              "      <td>60.0</td>\n",
              "      <td>2050.0</td>\n",
              "      <td>21.0</td>\n",
              "    </tr>\n",
              "    <tr>\n",
              "      <th>68325</th>\n",
              "      <td>2021-07-31</td>\n",
              "      <td>_nao-se-aplica</td>\n",
              "      <td>youtube</td>\n",
              "      <td>Consórcio 2021</td>\n",
              "      <td>trueview</td>\n",
              "      <td>567.39</td>\n",
              "      <td>29797.0</td>\n",
              "      <td>324.0</td>\n",
              "      <td>9385.0</td>\n",
              "      <td>12.0</td>\n",
              "    </tr>\n",
              "    <tr>\n",
              "      <th>68326</th>\n",
              "      <td>2021-07-31</td>\n",
              "      <td>_nao-se-aplica</td>\n",
              "      <td>youtube</td>\n",
              "      <td>Consórcio 2021</td>\n",
              "      <td>trueview</td>\n",
              "      <td>313.47</td>\n",
              "      <td>19891.0</td>\n",
              "      <td>199.0</td>\n",
              "      <td>8207.0</td>\n",
              "      <td>18.0</td>\n",
              "    </tr>\n",
              "    <tr>\n",
              "      <th>68327</th>\n",
              "      <td>2021-07-31</td>\n",
              "      <td>_nao-se-aplica</td>\n",
              "      <td>youtube</td>\n",
              "      <td>Consórcio 2021</td>\n",
              "      <td>trueview</td>\n",
              "      <td>273.15</td>\n",
              "      <td>15443.0</td>\n",
              "      <td>199.0</td>\n",
              "      <td>4487.0</td>\n",
              "      <td>11.0</td>\n",
              "    </tr>\n",
              "    <tr>\n",
              "      <th>68328</th>\n",
              "      <td>2021-07-31</td>\n",
              "      <td>_nao-se-aplica</td>\n",
              "      <td>youtube</td>\n",
              "      <td>Consórcio 2021</td>\n",
              "      <td>trueview</td>\n",
              "      <td>118.16</td>\n",
              "      <td>8971.0</td>\n",
              "      <td>99.0</td>\n",
              "      <td>3690.0</td>\n",
              "      <td>19.0</td>\n",
              "    </tr>\n",
              "  </tbody>\n",
              "</table>\n",
              "<p>68261 rows × 10 columns</p>\n",
              "</div>"
            ],
            "text/plain": [
              "             Data         Produto  ... Video Views Views 100%\n",
              "8745   2021-05-31  _nao-se-aplica  ...       611.0      180.0\n",
              "8746   2021-05-31  _nao-se-aplica  ...       515.0      139.0\n",
              "8747   2021-05-31  _nao-se-aplica  ...       178.0       40.0\n",
              "8748   2021-05-31  _nao-se-aplica  ...       207.0       53.0\n",
              "8749   2021-05-31  _nao-se-aplica  ...       764.0      211.0\n",
              "...           ...             ...  ...         ...        ...\n",
              "67834  2021-07-30  _nao-se-aplica  ...      2050.0       21.0\n",
              "68325  2021-07-31  _nao-se-aplica  ...      9385.0       12.0\n",
              "68326  2021-07-31  _nao-se-aplica  ...      8207.0       18.0\n",
              "68327  2021-07-31  _nao-se-aplica  ...      4487.0       11.0\n",
              "68328  2021-07-31  _nao-se-aplica  ...      3690.0       19.0\n",
              "\n",
              "[68261 rows x 10 columns]"
            ]
          },
          "metadata": {},
          "execution_count": 32
        }
      ]
    },
    {
      "cell_type": "code",
      "metadata": {
        "id": "fMO1f-DneEdW"
      },
      "source": [
        "\n",
        "# replace produto\n",
        "conso_tratado = concat_g_f_i.replace([\"Produto\", \"_nao-se-aplica\"], \"Consórcio\")"
      ],
      "execution_count": null,
      "outputs": []
    },
    {
      "cell_type": "code",
      "metadata": {
        "id": "6R9mYn92eGlL"
      },
      "source": [
        "# tratando o veículo\n",
        "\n",
        "conso_tratado = conso_tratado.replace([\"Veículo\", \"facebook\"], \"Facebook\")\n",
        "conso_tratado = conso_tratado.replace([\"Veículo\", \"google-ads\"], \"Google-ads\")\n",
        "conso_tratado = conso_tratado.replace([\"Veículo\", \"instagram\"], \"Instagram\")\n",
        "conso_tratado = conso_tratado.replace([\"Veículo\", \"youtube\"], \"Youtube\")"
      ],
      "execution_count": null,
      "outputs": []
    },
    {
      "cell_type": "code",
      "metadata": {
        "colab": {
          "base_uri": "https://localhost:8080/",
          "height": 206
        },
        "id": "cKG2QvS-eI1E",
        "outputId": "d0e74c3d-ab07-4910-cb50-314e3dc20c9c"
      },
      "source": [
        "conso_tratado.groupby('Veículo').count()"
      ],
      "execution_count": null,
      "outputs": [
        {
          "output_type": "execute_result",
          "data": {
            "text/html": [
              "<div>\n",
              "<style scoped>\n",
              "    .dataframe tbody tr th:only-of-type {\n",
              "        vertical-align: middle;\n",
              "    }\n",
              "\n",
              "    .dataframe tbody tr th {\n",
              "        vertical-align: top;\n",
              "    }\n",
              "\n",
              "    .dataframe thead th {\n",
              "        text-align: right;\n",
              "    }\n",
              "</style>\n",
              "<table border=\"1\" class=\"dataframe\">\n",
              "  <thead>\n",
              "    <tr style=\"text-align: right;\">\n",
              "      <th></th>\n",
              "      <th>Data</th>\n",
              "      <th>Produto</th>\n",
              "      <th>Descrição da Campanha</th>\n",
              "      <th>Formato</th>\n",
              "      <th>Investimento</th>\n",
              "      <th>Impressões</th>\n",
              "      <th>Cliques no link</th>\n",
              "      <th>Video Views</th>\n",
              "      <th>Views 100%</th>\n",
              "    </tr>\n",
              "    <tr>\n",
              "      <th>Veículo</th>\n",
              "      <th></th>\n",
              "      <th></th>\n",
              "      <th></th>\n",
              "      <th></th>\n",
              "      <th></th>\n",
              "      <th></th>\n",
              "      <th></th>\n",
              "      <th></th>\n",
              "      <th></th>\n",
              "    </tr>\n",
              "  </thead>\n",
              "  <tbody>\n",
              "    <tr>\n",
              "      <th>Facebook</th>\n",
              "      <td>8148</td>\n",
              "      <td>8148</td>\n",
              "      <td>8148</td>\n",
              "      <td>8148</td>\n",
              "      <td>6051</td>\n",
              "      <td>6051</td>\n",
              "      <td>6051</td>\n",
              "      <td>6051</td>\n",
              "      <td>6051</td>\n",
              "    </tr>\n",
              "    <tr>\n",
              "      <th>Google-ads</th>\n",
              "      <td>58940</td>\n",
              "      <td>58940</td>\n",
              "      <td>58940</td>\n",
              "      <td>58940</td>\n",
              "      <td>32882</td>\n",
              "      <td>32882</td>\n",
              "      <td>32882</td>\n",
              "      <td>32882</td>\n",
              "      <td>32882</td>\n",
              "    </tr>\n",
              "    <tr>\n",
              "      <th>Instagram</th>\n",
              "      <td>467</td>\n",
              "      <td>467</td>\n",
              "      <td>467</td>\n",
              "      <td>467</td>\n",
              "      <td>256</td>\n",
              "      <td>256</td>\n",
              "      <td>256</td>\n",
              "      <td>256</td>\n",
              "      <td>256</td>\n",
              "    </tr>\n",
              "    <tr>\n",
              "      <th>Youtube</th>\n",
              "      <td>706</td>\n",
              "      <td>706</td>\n",
              "      <td>706</td>\n",
              "      <td>706</td>\n",
              "      <td>691</td>\n",
              "      <td>691</td>\n",
              "      <td>691</td>\n",
              "      <td>691</td>\n",
              "      <td>691</td>\n",
              "    </tr>\n",
              "  </tbody>\n",
              "</table>\n",
              "</div>"
            ],
            "text/plain": [
              "             Data  Produto  ...  Video Views  Views 100%\n",
              "Veículo                     ...                         \n",
              "Facebook     8148     8148  ...         6051        6051\n",
              "Google-ads  58940    58940  ...        32882       32882\n",
              "Instagram     467      467  ...          256         256\n",
              "Youtube       706      706  ...          691         691\n",
              "\n",
              "[4 rows x 9 columns]"
            ]
          },
          "metadata": {},
          "execution_count": 35
        }
      ]
    },
    {
      "cell_type": "code",
      "metadata": {
        "id": "P5fPSAHbeWQ3"
      },
      "source": [
        "# exportando para excel \n",
        "conso_tratado.to_csv(\"consorcio_maio.csv\",sep='\\t',encoding=\"utf-8\")"
      ],
      "execution_count": null,
      "outputs": []
    },
    {
      "cell_type": "code",
      "metadata": {
        "id": "UGJIQQOtnTfy"
      },
      "source": [
        ""
      ],
      "execution_count": null,
      "outputs": []
    }
  ]
}