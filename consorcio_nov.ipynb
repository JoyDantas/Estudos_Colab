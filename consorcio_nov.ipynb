{
  "nbformat": 4,
  "nbformat_minor": 0,
  "metadata": {
    "colab": {
      "name": "consorcio_nov.ipynb",
      "provenance": [],
      "collapsed_sections": [],
      "mount_file_id": "1ATy6KC80nGvGwGfcLqVeaCgHx5BrjHwG",
      "authorship_tag": "ABX9TyP5rR15vsgxuChKa8b49QpM",
      "include_colab_link": true
    },
    "kernelspec": {
      "name": "python3",
      "display_name": "Python 3"
    },
    "language_info": {
      "name": "python"
    }
  },
  "cells": [
    {
      "cell_type": "markdown",
      "metadata": {
        "id": "view-in-github",
        "colab_type": "text"
      },
      "source": [
        "<a href=\"https://colab.research.google.com/github/JoyDantas/Estudos_Colab/blob/main/consorcio_nov.ipynb\" target=\"_parent\"><img src=\"https://colab.research.google.com/assets/colab-badge.svg\" alt=\"Open In Colab\"/></a>"
      ]
    },
    {
      "cell_type": "code",
      "metadata": {
        "colab": {
          "base_uri": "https://localhost:8080/"
        },
        "id": "Y7EJWpVuSg0x",
        "outputId": "bf306d33-6fb5-4b20-91f1-d90e7fd1ff4b"
      },
      "source": [
        "import pandas as pd\n",
        "import numpy as np\n",
        "!pip install --upgrade gspread ## atualizando o pacote"
      ],
      "execution_count": null,
      "outputs": [
        {
          "output_type": "stream",
          "name": "stdout",
          "text": [
            "Requirement already satisfied: gspread in /usr/local/lib/python3.7/dist-packages (4.0.1)\n",
            "Requirement already satisfied: google-auth>=1.12.0 in /usr/local/lib/python3.7/dist-packages (from gspread) (1.35.0)\n",
            "Requirement already satisfied: google-auth-oauthlib>=0.4.1 in /usr/local/lib/python3.7/dist-packages (from gspread) (0.4.6)\n",
            "Requirement already satisfied: rsa<5,>=3.1.4 in /usr/local/lib/python3.7/dist-packages (from google-auth>=1.12.0->gspread) (4.7.2)\n",
            "Requirement already satisfied: setuptools>=40.3.0 in /usr/local/lib/python3.7/dist-packages (from google-auth>=1.12.0->gspread) (57.4.0)\n",
            "Requirement already satisfied: six>=1.9.0 in /usr/local/lib/python3.7/dist-packages (from google-auth>=1.12.0->gspread) (1.15.0)\n",
            "Requirement already satisfied: pyasn1-modules>=0.2.1 in /usr/local/lib/python3.7/dist-packages (from google-auth>=1.12.0->gspread) (0.2.8)\n",
            "Requirement already satisfied: cachetools<5.0,>=2.0.0 in /usr/local/lib/python3.7/dist-packages (from google-auth>=1.12.0->gspread) (4.2.4)\n",
            "Requirement already satisfied: requests-oauthlib>=0.7.0 in /usr/local/lib/python3.7/dist-packages (from google-auth-oauthlib>=0.4.1->gspread) (1.3.0)\n",
            "Requirement already satisfied: pyasn1<0.5.0,>=0.4.6 in /usr/local/lib/python3.7/dist-packages (from pyasn1-modules>=0.2.1->google-auth>=1.12.0->gspread) (0.4.8)\n",
            "Requirement already satisfied: oauthlib>=3.0.0 in /usr/local/lib/python3.7/dist-packages (from requests-oauthlib>=0.7.0->google-auth-oauthlib>=0.4.1->gspread) (3.1.1)\n",
            "Requirement already satisfied: requests>=2.0.0 in /usr/local/lib/python3.7/dist-packages (from requests-oauthlib>=0.7.0->google-auth-oauthlib>=0.4.1->gspread) (2.23.0)\n",
            "Requirement already satisfied: idna<3,>=2.5 in /usr/local/lib/python3.7/dist-packages (from requests>=2.0.0->requests-oauthlib>=0.7.0->google-auth-oauthlib>=0.4.1->gspread) (2.10)\n",
            "Requirement already satisfied: chardet<4,>=3.0.2 in /usr/local/lib/python3.7/dist-packages (from requests>=2.0.0->requests-oauthlib>=0.7.0->google-auth-oauthlib>=0.4.1->gspread) (3.0.4)\n",
            "Requirement already satisfied: urllib3!=1.25.0,!=1.25.1,<1.26,>=1.21.1 in /usr/local/lib/python3.7/dist-packages (from requests>=2.0.0->requests-oauthlib>=0.7.0->google-auth-oauthlib>=0.4.1->gspread) (1.24.3)\n",
            "Requirement already satisfied: certifi>=2017.4.17 in /usr/local/lib/python3.7/dist-packages (from requests>=2.0.0->requests-oauthlib>=0.7.0->google-auth-oauthlib>=0.4.1->gspread) (2021.10.8)\n"
          ]
        }
      ]
    },
    {
      "cell_type": "code",
      "metadata": {
        "id": "E1xdGJPQStVD"
      },
      "source": [
        "from google.colab import auth\n",
        "auth.authenticate_user()\n",
        "\n",
        "import gspread\n",
        "from oauth2client.client import GoogleCredentials\n",
        "\n",
        "gc = gspread.authorize(GoogleCredentials.get_application_default())"
      ],
      "execution_count": null,
      "outputs": []
    },
    {
      "cell_type": "code",
      "metadata": {
        "id": "WL67uqSM4nE8"
      },
      "source": [
        "consorcio_nov = gc.open(\"Itaú Institucional | Consórcio | Nov 2021\")\n"
      ],
      "execution_count": null,
      "outputs": []
    },
    {
      "cell_type": "code",
      "metadata": {
        "id": "jF7I_i324xdN"
      },
      "source": [
        "consorcio_wkb = consorcio_nov.worksheet('Workbook')"
      ],
      "execution_count": null,
      "outputs": []
    },
    {
      "cell_type": "code",
      "metadata": {
        "id": "-aiUWs0jTHDO"
      },
      "source": [
        "## transformando e data frame \n",
        "\n",
        "df_consorcio = pd.DataFrame(consorcio_wkb.get_all_records())"
      ],
      "execution_count": null,
      "outputs": []
    },
    {
      "cell_type": "code",
      "metadata": {
        "id": "uo_KYIyrTLvx"
      },
      "source": [
        "# selecionando colunas\n",
        "\n",
        "df_consorcio_selecionadas = df_consorcio.filter(['Data', 'Produto', 'Veículo', 'Descrição da Campanha',\n",
        "                                                 'Formato', 'Investimento', 'Impressões', 'Cliques no link', 'Video Views', 'Views 100%'])"
      ],
      "execution_count": null,
      "outputs": []
    },
    {
      "cell_type": "code",
      "metadata": {
        "colab": {
          "base_uri": "https://localhost:8080/"
        },
        "id": "GpIRb59kTRt-",
        "outputId": "86e84bde-827e-4cec-867d-91edb716d2fd"
      },
      "source": [
        "df_consorcio_selecionadas.info()"
      ],
      "execution_count": null,
      "outputs": [
        {
          "output_type": "stream",
          "name": "stdout",
          "text": [
            "<class 'pandas.core.frame.DataFrame'>\n",
            "RangeIndex: 5399 entries, 0 to 5398\n",
            "Data columns (total 10 columns):\n",
            " #   Column                 Non-Null Count  Dtype  \n",
            "---  ------                 --------------  -----  \n",
            " 0   Data                   5399 non-null   object \n",
            " 1   Produto                5399 non-null   object \n",
            " 2   Veículo                5399 non-null   object \n",
            " 3   Descrição da Campanha  5399 non-null   object \n",
            " 4   Formato                5399 non-null   object \n",
            " 5   Investimento           5399 non-null   float64\n",
            " 6   Impressões             5399 non-null   int64  \n",
            " 7   Cliques no link        5399 non-null   int64  \n",
            " 8   Video Views            5399 non-null   int64  \n",
            " 9   Views 100%             5399 non-null   int64  \n",
            "dtypes: float64(1), int64(4), object(5)\n",
            "memory usage: 421.9+ KB\n"
          ]
        }
      ]
    },
    {
      "cell_type": "code",
      "metadata": {
        "id": "xpTfAJ8kP07n"
      },
      "source": [
        "## trocando formato dos dados\n",
        "\n",
        "df_consorcio_selecionadas['Impressões'] = pd.to_numeric(df_consorcio_selecionadas['Impressões'])\n",
        "df_consorcio_selecionadas['Investimento'] = pd.to_numeric(df_consorcio_selecionadas['Investimento'])\n",
        "df_consorcio_selecionadas['Cliques no link'] = pd.to_numeric(df_consorcio_selecionadas['Cliques no link'])\n",
        "df_consorcio_selecionadas['Video Views'] = pd.to_numeric(df_consorcio_selecionadas['Video Views'])\n",
        "df_consorcio_selecionadas['Views 100%'] = pd.to_numeric(df_consorcio_selecionadas['Views 100%'])"
      ],
      "execution_count": null,
      "outputs": []
    },
    {
      "cell_type": "code",
      "metadata": {
        "colab": {
          "base_uri": "https://localhost:8080/"
        },
        "id": "s7UdFlLcP2CP",
        "outputId": "b56bbe23-9da0-493b-e6cc-78662cd7b1da"
      },
      "source": [
        "df_consorcio_selecionadas.info()"
      ],
      "execution_count": null,
      "outputs": [
        {
          "output_type": "stream",
          "name": "stdout",
          "text": [
            "<class 'pandas.core.frame.DataFrame'>\n",
            "RangeIndex: 5399 entries, 0 to 5398\n",
            "Data columns (total 10 columns):\n",
            " #   Column                 Non-Null Count  Dtype  \n",
            "---  ------                 --------------  -----  \n",
            " 0   Data                   5399 non-null   object \n",
            " 1   Produto                5399 non-null   object \n",
            " 2   Veículo                5399 non-null   object \n",
            " 3   Descrição da Campanha  5399 non-null   object \n",
            " 4   Formato                5399 non-null   object \n",
            " 5   Investimento           5399 non-null   float64\n",
            " 6   Impressões             5399 non-null   int64  \n",
            " 7   Cliques no link        5399 non-null   int64  \n",
            " 8   Video Views            5399 non-null   int64  \n",
            " 9   Views 100%             5399 non-null   int64  \n",
            "dtypes: float64(1), int64(4), object(5)\n",
            "memory usage: 421.9+ KB\n"
          ]
        }
      ]
    },
    {
      "cell_type": "code",
      "metadata": {
        "id": "nzksIgvETRvW"
      },
      "source": [
        "## selecionando veiculo\n",
        "selecionadas_g = df_consorcio_selecionadas.loc[(df_consorcio_selecionadas[\"Veículo\"] == \"google-ads\")]\n",
        "selecionadas_f = df_consorcio_selecionadas.loc[(df_consorcio_selecionadas[\"Veículo\"] == \"facebook\")]                                          \n",
        "selecionadas_i = df_consorcio_selecionadas.loc[(df_consorcio_selecionadas[\"Veículo\"]== \"instagram\")]\n",
        "selecionadas_y = df_consorcio_selecionadas.loc[(df_consorcio_selecionadas[\"Veículo\"]== \"youtube\")]"
      ],
      "execution_count": null,
      "outputs": []
    },
    {
      "cell_type": "code",
      "metadata": {
        "id": "2SG9NYZSTnqj"
      },
      "source": [
        "concat_g_f_i = [selecionadas_i,selecionadas_g,selecionadas_f,selecionadas_y]\n",
        "concat_g_f_i= pd.concat(concat_g_f_i)\n"
      ],
      "execution_count": null,
      "outputs": []
    },
    {
      "cell_type": "code",
      "metadata": {
        "colab": {
          "base_uri": "https://localhost:8080/"
        },
        "id": "MHxcdxjmT6PT",
        "outputId": "160b5eb3-67a4-4096-82f6-0ac214100765"
      },
      "source": [
        "concat_g_f_i.info()"
      ],
      "execution_count": null,
      "outputs": [
        {
          "output_type": "stream",
          "name": "stdout",
          "text": [
            "<class 'pandas.core.frame.DataFrame'>\n",
            "Int64Index: 4950 entries, 59 to 5398\n",
            "Data columns (total 10 columns):\n",
            " #   Column                 Non-Null Count  Dtype  \n",
            "---  ------                 --------------  -----  \n",
            " 0   Data                   4950 non-null   object \n",
            " 1   Produto                4950 non-null   object \n",
            " 2   Veículo                4950 non-null   object \n",
            " 3   Descrição da Campanha  4950 non-null   object \n",
            " 4   Formato                4950 non-null   object \n",
            " 5   Investimento           4950 non-null   float64\n",
            " 6   Impressões             4950 non-null   int64  \n",
            " 7   Cliques no link        4950 non-null   int64  \n",
            " 8   Video Views            4950 non-null   int64  \n",
            " 9   Views 100%             4950 non-null   int64  \n",
            "dtypes: float64(1), int64(4), object(5)\n",
            "memory usage: 425.4+ KB\n"
          ]
        }
      ]
    },
    {
      "cell_type": "code",
      "metadata": {
        "colab": {
          "base_uri": "https://localhost:8080/",
          "height": 423
        },
        "id": "uMM_Ons0T-KI",
        "outputId": "6786e168-4d4b-4a94-af5b-1fd34ccc30f5"
      },
      "source": [
        "# Tratamento taxonomia\n",
        "# primeiro selecionando os resultados\n",
        "\n",
        "concat_g_f_i.loc[(concat_g_f_i[\"Produto\"] == \"_nao-se-aplica\")]\n"
      ],
      "execution_count": null,
      "outputs": [
        {
          "output_type": "execute_result",
          "data": {
            "text/html": [
              "<div>\n",
              "<style scoped>\n",
              "    .dataframe tbody tr th:only-of-type {\n",
              "        vertical-align: middle;\n",
              "    }\n",
              "\n",
              "    .dataframe tbody tr th {\n",
              "        vertical-align: top;\n",
              "    }\n",
              "\n",
              "    .dataframe thead th {\n",
              "        text-align: right;\n",
              "    }\n",
              "</style>\n",
              "<table border=\"1\" class=\"dataframe\">\n",
              "  <thead>\n",
              "    <tr style=\"text-align: right;\">\n",
              "      <th></th>\n",
              "      <th>Data</th>\n",
              "      <th>Produto</th>\n",
              "      <th>Veículo</th>\n",
              "      <th>Descrição da Campanha</th>\n",
              "      <th>Formato</th>\n",
              "      <th>Investimento</th>\n",
              "      <th>Impressões</th>\n",
              "      <th>Cliques no link</th>\n",
              "      <th>Video Views</th>\n",
              "      <th>Views 100%</th>\n",
              "    </tr>\n",
              "  </thead>\n",
              "  <tbody>\n",
              "    <tr>\n",
              "      <th>59</th>\n",
              "      <td>2021-11-11</td>\n",
              "      <td>_nao-se-aplica</td>\n",
              "      <td>instagram</td>\n",
              "      <td>Consórcio 2021</td>\n",
              "      <td>stories</td>\n",
              "      <td>3.99</td>\n",
              "      <td>287</td>\n",
              "      <td>1</td>\n",
              "      <td>17</td>\n",
              "      <td>9</td>\n",
              "    </tr>\n",
              "    <tr>\n",
              "      <th>60</th>\n",
              "      <td>2021-11-11</td>\n",
              "      <td>_nao-se-aplica</td>\n",
              "      <td>instagram</td>\n",
              "      <td>Consórcio 2021</td>\n",
              "      <td>stories</td>\n",
              "      <td>192.87</td>\n",
              "      <td>7185</td>\n",
              "      <td>50</td>\n",
              "      <td>668</td>\n",
              "      <td>213</td>\n",
              "    </tr>\n",
              "    <tr>\n",
              "      <th>61</th>\n",
              "      <td>2021-11-11</td>\n",
              "      <td>_nao-se-aplica</td>\n",
              "      <td>instagram</td>\n",
              "      <td>Consórcio 2021</td>\n",
              "      <td>stories</td>\n",
              "      <td>1.14</td>\n",
              "      <td>243</td>\n",
              "      <td>0</td>\n",
              "      <td>5</td>\n",
              "      <td>3</td>\n",
              "    </tr>\n",
              "    <tr>\n",
              "      <th>62</th>\n",
              "      <td>2021-11-11</td>\n",
              "      <td>_nao-se-aplica</td>\n",
              "      <td>instagram</td>\n",
              "      <td>Consórcio 2021</td>\n",
              "      <td>stories</td>\n",
              "      <td>8.38</td>\n",
              "      <td>222</td>\n",
              "      <td>3</td>\n",
              "      <td>35</td>\n",
              "      <td>15</td>\n",
              "    </tr>\n",
              "    <tr>\n",
              "      <th>123</th>\n",
              "      <td>2021-11-12</td>\n",
              "      <td>_nao-se-aplica</td>\n",
              "      <td>instagram</td>\n",
              "      <td>Consórcio 2021</td>\n",
              "      <td>stories</td>\n",
              "      <td>4.23</td>\n",
              "      <td>152</td>\n",
              "      <td>0</td>\n",
              "      <td>19</td>\n",
              "      <td>3</td>\n",
              "    </tr>\n",
              "    <tr>\n",
              "      <th>...</th>\n",
              "      <td>...</td>\n",
              "      <td>...</td>\n",
              "      <td>...</td>\n",
              "      <td>...</td>\n",
              "      <td>...</td>\n",
              "      <td>...</td>\n",
              "      <td>...</td>\n",
              "      <td>...</td>\n",
              "      <td>...</td>\n",
              "      <td>...</td>\n",
              "    </tr>\n",
              "    <tr>\n",
              "      <th>5394</th>\n",
              "      <td>2021-11-23</td>\n",
              "      <td>_nao-se-aplica</td>\n",
              "      <td>youtube</td>\n",
              "      <td>Consórcio 2021</td>\n",
              "      <td>video-ad</td>\n",
              "      <td>0.00</td>\n",
              "      <td>0</td>\n",
              "      <td>0</td>\n",
              "      <td>0</td>\n",
              "      <td>0</td>\n",
              "    </tr>\n",
              "    <tr>\n",
              "      <th>5395</th>\n",
              "      <td>2021-11-23</td>\n",
              "      <td>_nao-se-aplica</td>\n",
              "      <td>youtube</td>\n",
              "      <td>Consórcio 2021</td>\n",
              "      <td>video-ad</td>\n",
              "      <td>0.00</td>\n",
              "      <td>0</td>\n",
              "      <td>0</td>\n",
              "      <td>0</td>\n",
              "      <td>0</td>\n",
              "    </tr>\n",
              "    <tr>\n",
              "      <th>5396</th>\n",
              "      <td>2021-11-23</td>\n",
              "      <td>_nao-se-aplica</td>\n",
              "      <td>youtube</td>\n",
              "      <td>Consórcio 2021</td>\n",
              "      <td>video-ad</td>\n",
              "      <td>0.00</td>\n",
              "      <td>0</td>\n",
              "      <td>0</td>\n",
              "      <td>0</td>\n",
              "      <td>0</td>\n",
              "    </tr>\n",
              "    <tr>\n",
              "      <th>5397</th>\n",
              "      <td>2021-11-23</td>\n",
              "      <td>_nao-se-aplica</td>\n",
              "      <td>youtube</td>\n",
              "      <td>Consórcio 2021</td>\n",
              "      <td>video-ad</td>\n",
              "      <td>0.00</td>\n",
              "      <td>0</td>\n",
              "      <td>0</td>\n",
              "      <td>0</td>\n",
              "      <td>0</td>\n",
              "    </tr>\n",
              "    <tr>\n",
              "      <th>5398</th>\n",
              "      <td>2021-11-23</td>\n",
              "      <td>_nao-se-aplica</td>\n",
              "      <td>youtube</td>\n",
              "      <td>Consórcio 2021</td>\n",
              "      <td>video-ad</td>\n",
              "      <td>0.00</td>\n",
              "      <td>0</td>\n",
              "      <td>0</td>\n",
              "      <td>0</td>\n",
              "      <td>0</td>\n",
              "    </tr>\n",
              "  </tbody>\n",
              "</table>\n",
              "<p>4950 rows × 10 columns</p>\n",
              "</div>"
            ],
            "text/plain": [
              "            Data         Produto  ... Video Views Views 100%\n",
              "59    2021-11-11  _nao-se-aplica  ...          17          9\n",
              "60    2021-11-11  _nao-se-aplica  ...         668        213\n",
              "61    2021-11-11  _nao-se-aplica  ...           5          3\n",
              "62    2021-11-11  _nao-se-aplica  ...          35         15\n",
              "123   2021-11-12  _nao-se-aplica  ...          19          3\n",
              "...          ...             ...  ...         ...        ...\n",
              "5394  2021-11-23  _nao-se-aplica  ...           0          0\n",
              "5395  2021-11-23  _nao-se-aplica  ...           0          0\n",
              "5396  2021-11-23  _nao-se-aplica  ...           0          0\n",
              "5397  2021-11-23  _nao-se-aplica  ...           0          0\n",
              "5398  2021-11-23  _nao-se-aplica  ...           0          0\n",
              "\n",
              "[4950 rows x 10 columns]"
            ]
          },
          "metadata": {},
          "execution_count": 33
        }
      ]
    },
    {
      "cell_type": "code",
      "metadata": {
        "id": "d7hsKJtHURVe"
      },
      "source": [
        "\n",
        "# replace produto\n",
        "conso_tratado = concat_g_f_i.replace([\"Produto\", \"_nao-se-aplica\"], \"Consórcio\")"
      ],
      "execution_count": null,
      "outputs": []
    },
    {
      "cell_type": "code",
      "metadata": {
        "id": "npuCibcrUTp2"
      },
      "source": [
        "# tratando o veículo\n",
        "\n",
        "conso_tratado = conso_tratado.replace([\"Veículo\", \"facebook\"], \"Facebook\")\n",
        "conso_tratado = conso_tratado.replace([\"Veículo\", \"google-ads\"], \"Google-ads\")\n",
        "conso_tratado = conso_tratado.replace([\"Veículo\", \"instagram\"], \"Instagram\")\n",
        "conso_tratado = conso_tratado.replace([\"Veículo\", \"youtube\"], \"Youtube\")"
      ],
      "execution_count": null,
      "outputs": []
    },
    {
      "cell_type": "code",
      "metadata": {
        "colab": {
          "base_uri": "https://localhost:8080/",
          "height": 143
        },
        "id": "YVLr8oJJUYSe",
        "outputId": "155de49f-af19-422e-bea5-46eb95d3d7b8"
      },
      "source": [
        "conso_tratado.groupby('Descrição da Campanha').count()"
      ],
      "execution_count": null,
      "outputs": [
        {
          "output_type": "execute_result",
          "data": {
            "text/html": [
              "<div>\n",
              "<style scoped>\n",
              "    .dataframe tbody tr th:only-of-type {\n",
              "        vertical-align: middle;\n",
              "    }\n",
              "\n",
              "    .dataframe tbody tr th {\n",
              "        vertical-align: top;\n",
              "    }\n",
              "\n",
              "    .dataframe thead th {\n",
              "        text-align: right;\n",
              "    }\n",
              "</style>\n",
              "<table border=\"1\" class=\"dataframe\">\n",
              "  <thead>\n",
              "    <tr style=\"text-align: right;\">\n",
              "      <th></th>\n",
              "      <th>Data</th>\n",
              "      <th>Produto</th>\n",
              "      <th>Veículo</th>\n",
              "      <th>Formato</th>\n",
              "      <th>Investimento</th>\n",
              "      <th>Impressões</th>\n",
              "      <th>Cliques no link</th>\n",
              "      <th>Video Views</th>\n",
              "      <th>Views 100%</th>\n",
              "    </tr>\n",
              "    <tr>\n",
              "      <th>Descrição da Campanha</th>\n",
              "      <th></th>\n",
              "      <th></th>\n",
              "      <th></th>\n",
              "      <th></th>\n",
              "      <th></th>\n",
              "      <th></th>\n",
              "      <th></th>\n",
              "      <th></th>\n",
              "      <th></th>\n",
              "    </tr>\n",
              "  </thead>\n",
              "  <tbody>\n",
              "    <tr>\n",
              "      <th>(not set)</th>\n",
              "      <td>2</td>\n",
              "      <td>2</td>\n",
              "      <td>2</td>\n",
              "      <td>2</td>\n",
              "      <td>2</td>\n",
              "      <td>2</td>\n",
              "      <td>2</td>\n",
              "      <td>2</td>\n",
              "      <td>2</td>\n",
              "    </tr>\n",
              "    <tr>\n",
              "      <th>Consórcio 2021</th>\n",
              "      <td>4948</td>\n",
              "      <td>4948</td>\n",
              "      <td>4948</td>\n",
              "      <td>4948</td>\n",
              "      <td>4948</td>\n",
              "      <td>4948</td>\n",
              "      <td>4948</td>\n",
              "      <td>4948</td>\n",
              "      <td>4948</td>\n",
              "    </tr>\n",
              "  </tbody>\n",
              "</table>\n",
              "</div>"
            ],
            "text/plain": [
              "                       Data  Produto  ...  Video Views  Views 100%\n",
              "Descrição da Campanha                 ...                         \n",
              "(not set)                 2        2  ...            2           2\n",
              "Consórcio 2021         4948     4948  ...         4948        4948\n",
              "\n",
              "[2 rows x 9 columns]"
            ]
          },
          "metadata": {},
          "execution_count": 36
        }
      ]
    },
    {
      "cell_type": "code",
      "metadata": {
        "id": "xvMVRq2tUZv2"
      },
      "source": [
        "# exportando para excel \n",
        "\n",
        "conso_tratado.to_excel(\"consorcio_nov.xls\",index=False)"
      ],
      "execution_count": null,
      "outputs": []
    },
    {
      "cell_type": "code",
      "metadata": {
        "id": "x3YYApNDU2LG"
      },
      "source": [
        ""
      ],
      "execution_count": null,
      "outputs": []
    }
  ]
}