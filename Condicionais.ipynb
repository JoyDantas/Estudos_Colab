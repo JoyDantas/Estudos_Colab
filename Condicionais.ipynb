{
  "nbformat": 4,
  "nbformat_minor": 0,
  "metadata": {
    "colab": {
      "name": "Condicionais.ipynb",
      "provenance": [],
      "authorship_tag": "ABX9TyOT39ih1SZ7fGJCPzS3Aobj",
      "include_colab_link": true
    },
    "kernelspec": {
      "name": "python3",
      "display_name": "Python 3"
    },
    "language_info": {
      "name": "python"
    }
  },
  "cells": [
    {
      "cell_type": "markdown",
      "metadata": {
        "id": "view-in-github",
        "colab_type": "text"
      },
      "source": [
        "<a href=\"https://colab.research.google.com/github/JoyDantas/Estudos_Colab/blob/main/Condicionais.ipynb\" target=\"_parent\"><img src=\"https://colab.research.google.com/assets/colab-badge.svg\" alt=\"Open In Colab\"/></a>"
      ]
    },
    {
      "cell_type": "markdown",
      "metadata": {
        "id": "2PKY2yf4hpp2"
      },
      "source": [
        "Trabalhando com a condição if"
      ]
    },
    {
      "cell_type": "code",
      "metadata": {
        "id": "XNW2lK-Hhtcj"
      },
      "source": [
        "meu_numero = 123"
      ],
      "execution_count": 1,
      "outputs": []
    },
    {
      "cell_type": "code",
      "metadata": {
        "colab": {
          "base_uri": "https://localhost:8080/"
        },
        "id": "wfirLFDWh6A-",
        "outputId": "1775768f-62be-4cef-da47-673ba70b3ed6"
      },
      "source": [
        "if meu_numero > 100:\n",
        "  print(meu_numero, 'é maior')"
      ],
      "execution_count": 2,
      "outputs": [
        {
          "output_type": "stream",
          "name": "stdout",
          "text": [
            "123 é maior\n"
          ]
        }
      ]
    },
    {
      "cell_type": "markdown",
      "metadata": {
        "id": "tmPU9qjoizvS"
      },
      "source": [
        "## > maior que \n",
        "\n",
        "## < menor que \n",
        "\n",
        "## >= maior ou igual \n",
        "\n",
        "## <= menor ou igual \n",
        "\n",
        "## == igual \n",
        "\n",
        "## != diferente \n"
      ]
    },
    {
      "cell_type": "code",
      "metadata": {
        "colab": {
          "base_uri": "https://localhost:8080/"
        },
        "id": "eulHztqijCZi",
        "outputId": "3e748159-329d-44a5-9bf5-6b47064b8b8c"
      },
      "source": [
        "## note que é importante ter a indentação \n",
        "\n",
        "if meu_numero > 200:\n",
        "  print(meu_numero, 'é maior')\n",
        "else:\n",
        "  print(meu_numero, 'é menor')"
      ],
      "execution_count": 10,
      "outputs": [
        {
          "output_type": "stream",
          "name": "stdout",
          "text": [
            "123 é menor\n"
          ]
        }
      ]
    },
    {
      "cell_type": "code",
      "metadata": {
        "colab": {
          "base_uri": "https://localhost:8080/"
        },
        "id": "2m8Dax7rkAV0",
        "outputId": "c7edb801-50e0-4d19-ecb1-402afc8d2b85"
      },
      "source": [
        "## utilizando o elif \n",
        "## podemos utilizar vários elif \n",
        "\n",
        "if meu_numero > 200:\n",
        "  print(meu_numero, 'é maior')\n",
        "elif meu_numero == 100:\n",
        "  print(meu_numero, 'é 100')\n",
        "else:\n",
        "  print(meu_numero, 'é menor')"
      ],
      "execution_count": 14,
      "outputs": [
        {
          "output_type": "stream",
          "name": "stdout",
          "text": [
            "123 é menor\n"
          ]
        }
      ]
    },
    {
      "cell_type": "code",
      "metadata": {
        "colab": {
          "base_uri": "https://localhost:8080/"
        },
        "id": "62Eo4yk9k0O6",
        "outputId": "1988b49c-d501-42ff-ec05-80c6f815ad88"
      },
      "source": [
        "meu_numero = 500\n",
        "\n",
        "if meu_numero > 200:\n",
        "  print(meu_numero, 'é maior')\n",
        "elif meu_numero == 100:\n",
        "  print(meu_numero, 'é 100')\n",
        "elif meu_numero > 50:\n",
        "  prin(meu_numero, 'menor que 50')\n",
        "elif meu_numero == 123:\n",
        "  print(meu_numero, 'é diferente de 123')\n",
        "else:\n",
        "  print(meu_numero, 'é menor')"
      ],
      "execution_count": 17,
      "outputs": [
        {
          "output_type": "stream",
          "name": "stdout",
          "text": [
            "500 é maior\n"
          ]
        }
      ]
    },
    {
      "cell_type": "markdown",
      "metadata": {
        "id": "FQyiXZ81lsCB"
      },
      "source": [
        "# Combinado loops com if, elif e else\n"
      ]
    },
    {
      "cell_type": "code",
      "metadata": {
        "colab": {
          "base_uri": "https://localhost:8080/"
        },
        "id": "_P2lGOhClz10",
        "outputId": "0f84cd70-d262-4b37-dd1e-ff6e09db8078"
      },
      "source": [
        "lista = [1,2,3,4,5,6,7,8,9,10]\n",
        "\n",
        "for l in lista: \n",
        "  print(l)\n",
        "\n"
      ],
      "execution_count": 19,
      "outputs": [
        {
          "output_type": "stream",
          "name": "stdout",
          "text": [
            "1\n",
            "2\n",
            "3\n",
            "4\n",
            "5\n",
            "6\n",
            "7\n",
            "8\n",
            "9\n",
            "10\n"
          ]
        }
      ]
    },
    {
      "cell_type": "code",
      "metadata": {
        "colab": {
          "base_uri": "https://localhost:8080/"
        },
        "id": "HSTw3-GnmR20",
        "outputId": "2b417b03-d56e-4069-dcba-9ec44b95552c"
      },
      "source": [
        "for l in lista:\n",
        "  if l > 5:\n",
        "    print(l, 'é maior que 5')\n",
        "  elif l < 5:\n",
        "    print(l, 'é menor que 5')\n",
        "  else:\n",
        "    print(l, 'é igual a 5')"
      ],
      "execution_count": 21,
      "outputs": [
        {
          "output_type": "stream",
          "name": "stdout",
          "text": [
            "1 é menor que 5\n",
            "2 é menor que 5\n",
            "3 é menor que 5\n",
            "4 é menor que 5\n",
            "5 é igual a 5\n",
            "6 é maior que 5\n",
            "7 é maior que 5\n",
            "8 é maior que 5\n",
            "9 é maior que 5\n",
            "10 é maior que 5\n"
          ]
        }
      ]
    },
    {
      "cell_type": "code",
      "metadata": {
        "id": "_viNTam5mR-v"
      },
      "source": [
        ""
      ],
      "execution_count": null,
      "outputs": []
    }
  ]
}