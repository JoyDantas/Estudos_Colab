{
  "nbformat": 4,
  "nbformat_minor": 0,
  "metadata": {
    "colab": {
      "name": "Loops.ipynb",
      "provenance": [],
      "authorship_tag": "ABX9TyOVwnLfEBwzskZYfh4C1vL3",
      "include_colab_link": true
    },
    "kernelspec": {
      "name": "python3",
      "display_name": "Python 3"
    },
    "language_info": {
      "name": "python"
    }
  },
  "cells": [
    {
      "cell_type": "markdown",
      "metadata": {
        "id": "view-in-github",
        "colab_type": "text"
      },
      "source": [
        "<a href=\"https://colab.research.google.com/github/JoyDantas/Estudos_Colab/blob/main/Loops.ipynb\" target=\"_parent\"><img src=\"https://colab.research.google.com/assets/colab-badge.svg\" alt=\"Open In Colab\"/></a>"
      ]
    },
    {
      "cell_type": "markdown",
      "metadata": {
        "id": "UAQ28ow3fhOK"
      },
      "source": [
        "Loops"
      ]
    },
    {
      "cell_type": "code",
      "metadata": {
        "id": "eKbTSKPJfi1F"
      },
      "source": [
        "frutas = ['maça','banana','abacate']"
      ],
      "execution_count": 5,
      "outputs": []
    },
    {
      "cell_type": "code",
      "metadata": {
        "colab": {
          "base_uri": "https://localhost:8080/"
        },
        "id": "W8KIkCgNftLN",
        "outputId": "ed90f377-eabf-4b49-8c75-34abf343b108"
      },
      "source": [
        "for fruta in frutas:\n",
        "  print(fruta)"
      ],
      "execution_count": 6,
      "outputs": [
        {
          "output_type": "stream",
          "name": "stdout",
          "text": [
            "maça\n",
            "banana\n",
            "abacate\n"
          ]
        }
      ]
    },
    {
      "cell_type": "code",
      "metadata": {
        "colab": {
          "base_uri": "https://localhost:8080/"
        },
        "id": "o3dhqrpgf48-",
        "outputId": "150bd5e6-d350-48d7-8177-31ba15a7b5e6"
      },
      "source": [
        "for fruta in frutas:\n",
        "  print('...')\n",
        "  print(fruta)\n"
      ],
      "execution_count": 7,
      "outputs": [
        {
          "output_type": "stream",
          "name": "stdout",
          "text": [
            "...\n",
            "maça\n",
            "...\n",
            "banana\n",
            "...\n",
            "abacate\n"
          ]
        }
      ]
    },
    {
      "cell_type": "code",
      "metadata": {
        "colab": {
          "base_uri": "https://localhost:8080/"
        },
        "id": "4sgwViATgOUY",
        "outputId": "0de40db0-5a01-4e2b-c7e7-11704b367f10"
      },
      "source": [
        "for fruta in frutas:\n",
        "  for repeat in range(3):\n",
        "    print(fruta)\n",
        "\n"
      ],
      "execution_count": 8,
      "outputs": [
        {
          "output_type": "stream",
          "name": "stdout",
          "text": [
            "maça\n",
            "maça\n",
            "maça\n",
            "banana\n",
            "banana\n",
            "banana\n",
            "abacate\n",
            "abacate\n",
            "abacate\n"
          ]
        }
      ]
    },
    {
      "cell_type": "code",
      "metadata": {
        "colab": {
          "base_uri": "https://localhost:8080/"
        },
        "id": "2gs50umFghba",
        "outputId": "584fa12e-c0e7-4e5e-9f21-9e931898c226"
      },
      "source": [
        "## numerando a lista \n",
        "for fruta in enumerate(frutas):\n",
        "  print(fruta)"
      ],
      "execution_count": 9,
      "outputs": [
        {
          "output_type": "stream",
          "name": "stdout",
          "text": [
            "(0, 'maça')\n",
            "(1, 'banana')\n",
            "(2, 'abacate')\n"
          ]
        }
      ]
    },
    {
      "cell_type": "code",
      "metadata": {
        "colab": {
          "base_uri": "https://localhost:8080/"
        },
        "id": "aSF6gLvvg2TY",
        "outputId": "fc6a6042-4f18-495c-e549-2f0e4e258b40"
      },
      "source": [
        "for i, fruta in enumerate(frutas):\n",
        "  print('item',i, 'é a fruta', fruta)"
      ],
      "execution_count": 12,
      "outputs": [
        {
          "output_type": "stream",
          "name": "stdout",
          "text": [
            "item 0 é a fruta maça\n",
            "item 1 é a fruta banana\n",
            "item 2 é a fruta abacate\n"
          ]
        }
      ]
    }
  ]
}