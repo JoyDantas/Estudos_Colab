{
  "nbformat": 4,
  "nbformat_minor": 0,
  "metadata": {
    "colab": {
      "name": "Classe e Objetos.ipynb",
      "provenance": [],
      "authorship_tag": "ABX9TyOd7FWpUWtv5t+qyLuymN/N",
      "include_colab_link": true
    },
    "kernelspec": {
      "name": "python3",
      "display_name": "Python 3"
    },
    "language_info": {
      "name": "python"
    }
  },
  "cells": [
    {
      "cell_type": "markdown",
      "metadata": {
        "id": "view-in-github",
        "colab_type": "text"
      },
      "source": [
        "<a href=\"https://colab.research.google.com/github/JoyDantas/Estudos_Colab/blob/main/Classe_e_Objetos.ipynb\" target=\"_parent\"><img src=\"https://colab.research.google.com/assets/colab-badge.svg\" alt=\"Open In Colab\"/></a>"
      ]
    },
    {
      "cell_type": "code",
      "metadata": {
        "id": "ubepy779Exs2"
      },
      "source": [
        "class Dog:\n",
        "  def __init__(self,nome,cor):\n",
        "    self.nome = nome\n",
        "    self.cor = cor "
      ],
      "execution_count": 2,
      "outputs": []
    },
    {
      "cell_type": "code",
      "metadata": {
        "id": "SGrm3nULFIbA"
      },
      "source": [
        "meu_dog = Dog('jonny','branco')"
      ],
      "execution_count": 3,
      "outputs": []
    },
    {
      "cell_type": "code",
      "metadata": {
        "colab": {
          "base_uri": "https://localhost:8080/",
          "height": 35
        },
        "id": "PCL6BstlFPHy",
        "outputId": "c80db4ac-bdd3-44e7-e7d6-9b2df3d5ca0a"
      },
      "source": [
        "meu_dog.nome"
      ],
      "execution_count": 4,
      "outputs": [
        {
          "output_type": "execute_result",
          "data": {
            "application/vnd.google.colaboratory.intrinsic+json": {
              "type": "string"
            },
            "text/plain": [
              "'jonny'"
            ]
          },
          "metadata": {},
          "execution_count": 4
        }
      ]
    },
    {
      "cell_type": "code",
      "metadata": {
        "colab": {
          "base_uri": "https://localhost:8080/",
          "height": 35
        },
        "id": "mH6E219HFRsR",
        "outputId": "c1f7dd79-6bf9-4333-d5c8-6375ae93fc4c"
      },
      "source": [
        "meu_dog.cor"
      ],
      "execution_count": 5,
      "outputs": [
        {
          "output_type": "execute_result",
          "data": {
            "application/vnd.google.colaboratory.intrinsic+json": {
              "type": "string"
            },
            "text/plain": [
              "'branco'"
            ]
          },
          "metadata": {},
          "execution_count": 5
        }
      ]
    }
  ]
}