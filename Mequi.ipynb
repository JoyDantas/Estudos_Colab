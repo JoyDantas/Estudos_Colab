{
  "nbformat": 4,
  "nbformat_minor": 0,
  "metadata": {
    "colab": {
      "name": "Mequi.ipynb",
      "provenance": [],
      "authorship_tag": "ABX9TyPXyR+UTUIczSrg5uMQeyfa",
      "include_colab_link": true
    },
    "kernelspec": {
      "name": "python3",
      "display_name": "Python 3"
    },
    "language_info": {
      "name": "python"
    }
  },
  "cells": [
    {
      "cell_type": "markdown",
      "metadata": {
        "id": "view-in-github",
        "colab_type": "text"
      },
      "source": [
        "<a href=\"https://colab.research.google.com/github/JoyDantas/Estudos_Colab/blob/main/Mequi.ipynb\" target=\"_parent\"><img src=\"https://colab.research.google.com/assets/colab-badge.svg\" alt=\"Open In Colab\"/></a>"
      ]
    },
    {
      "cell_type": "code",
      "metadata": {
        "colab": {
          "base_uri": "https://localhost:8080/"
        },
        "id": "1t0qQ6ctal3y",
        "outputId": "f074099b-8a98-49f6-bcc3-3e87adf12b48"
      },
      "source": [
        "import pandas as pd\n",
        "import numpy as np\n",
        "!pip install --upgrade gspread ## atualizando o pacote"
      ],
      "execution_count": null,
      "outputs": [
        {
          "output_type": "stream",
          "name": "stdout",
          "text": [
            "Requirement already satisfied: gspread in /usr/local/lib/python3.7/dist-packages (5.0.0)\n",
            "Requirement already satisfied: google-auth-oauthlib>=0.4.1 in /usr/local/lib/python3.7/dist-packages (from gspread) (0.4.6)\n",
            "Requirement already satisfied: google-auth>=1.12.0 in /usr/local/lib/python3.7/dist-packages (from gspread) (1.35.0)\n",
            "Requirement already satisfied: rsa<5,>=3.1.4 in /usr/local/lib/python3.7/dist-packages (from google-auth>=1.12.0->gspread) (4.7.2)\n",
            "Requirement already satisfied: cachetools<5.0,>=2.0.0 in /usr/local/lib/python3.7/dist-packages (from google-auth>=1.12.0->gspread) (4.2.4)\n",
            "Requirement already satisfied: setuptools>=40.3.0 in /usr/local/lib/python3.7/dist-packages (from google-auth>=1.12.0->gspread) (57.4.0)\n",
            "Requirement already satisfied: six>=1.9.0 in /usr/local/lib/python3.7/dist-packages (from google-auth>=1.12.0->gspread) (1.15.0)\n",
            "Requirement already satisfied: pyasn1-modules>=0.2.1 in /usr/local/lib/python3.7/dist-packages (from google-auth>=1.12.0->gspread) (0.2.8)\n",
            "Requirement already satisfied: requests-oauthlib>=0.7.0 in /usr/local/lib/python3.7/dist-packages (from google-auth-oauthlib>=0.4.1->gspread) (1.3.0)\n",
            "Requirement already satisfied: pyasn1<0.5.0,>=0.4.6 in /usr/local/lib/python3.7/dist-packages (from pyasn1-modules>=0.2.1->google-auth>=1.12.0->gspread) (0.4.8)\n",
            "Requirement already satisfied: oauthlib>=3.0.0 in /usr/local/lib/python3.7/dist-packages (from requests-oauthlib>=0.7.0->google-auth-oauthlib>=0.4.1->gspread) (3.1.1)\n",
            "Requirement already satisfied: requests>=2.0.0 in /usr/local/lib/python3.7/dist-packages (from requests-oauthlib>=0.7.0->google-auth-oauthlib>=0.4.1->gspread) (2.23.0)\n",
            "Requirement already satisfied: certifi>=2017.4.17 in /usr/local/lib/python3.7/dist-packages (from requests>=2.0.0->requests-oauthlib>=0.7.0->google-auth-oauthlib>=0.4.1->gspread) (2021.10.8)\n",
            "Requirement already satisfied: chardet<4,>=3.0.2 in /usr/local/lib/python3.7/dist-packages (from requests>=2.0.0->requests-oauthlib>=0.7.0->google-auth-oauthlib>=0.4.1->gspread) (3.0.4)\n",
            "Requirement already satisfied: idna<3,>=2.5 in /usr/local/lib/python3.7/dist-packages (from requests>=2.0.0->requests-oauthlib>=0.7.0->google-auth-oauthlib>=0.4.1->gspread) (2.10)\n",
            "Requirement already satisfied: urllib3!=1.25.0,!=1.25.1,<1.26,>=1.21.1 in /usr/local/lib/python3.7/dist-packages (from requests>=2.0.0->requests-oauthlib>=0.7.0->google-auth-oauthlib>=0.4.1->gspread) (1.24.3)\n"
          ]
        }
      ]
    },
    {
      "cell_type": "code",
      "metadata": {
        "id": "XDri4YuBbAk_"
      },
      "source": [
        "from google.colab import auth\n",
        "auth.authenticate_user()\n",
        "\n",
        "import gspread\n",
        "from oauth2client.client import GoogleCredentials\n",
        "\n",
        "gc = gspread.authorize(GoogleCredentials.get_application_default())"
      ],
      "execution_count": null,
      "outputs": []
    },
    {
      "cell_type": "code",
      "metadata": {
        "id": "lgnfWQFxbBil"
      },
      "source": [
        "mequi_nova = gc.open(\"Mc Donald's | Base GERAL NovaTaxo | Mídia - Awareness\")"
      ],
      "execution_count": null,
      "outputs": []
    },
    {
      "cell_type": "code",
      "metadata": {
        "id": "dxitiK24bRXO"
      },
      "source": [
        "fb_wkb = mequi_nova.worksheet('facebook')\n",
        "tk_wkb = mequi_nova.worksheet('tiktok')\n",
        "mn_wkb = mequi_nova.worksheet('manual')\n"
      ],
      "execution_count": null,
      "outputs": []
    },
    {
      "cell_type": "code",
      "metadata": {
        "id": "zO_dpVe-bWIm"
      },
      "source": [
        "## transformando e data frame \n",
        "\n",
        "df_mequi_fb = pd.DataFrame(fb_wkb.get_all_records())\n",
        "df_mequi_tk = pd.DataFrame(tk_wkb.get_all_records())\n",
        "df_mequi_mn = pd.DataFrame(mn_wkb.get_all_records())"
      ],
      "execution_count": null,
      "outputs": []
    },
    {
      "cell_type": "code",
      "metadata": {
        "id": "Rbo8SpbIYTib"
      },
      "source": [
        "## pegando o intervalo de dados \n",
        "\n",
        "df_mequi_fb = df_mequi_fb.iloc[:, :53]\n",
        "df_mequi_tk = df_mequi_tk.iloc[: , :53]\n",
        "df_mequi_mn = df_mequi_mn.iloc[: , :53]"
      ],
      "execution_count": null,
      "outputs": []
    },
    {
      "cell_type": "code",
      "metadata": {
        "id": "IlcgZIY5VQ5O"
      },
      "source": [
        "# consolidando tabelas \n",
        "\n",
        "concat_fb_tk_mn = [df_mequi_fb,df_mequi_tk,df_mequi_mn]\n",
        "concat_fb_tk_mn = pd.concat(concat_fb_tk_mn)\n"
      ],
      "execution_count": null,
      "outputs": []
    },
    {
      "cell_type": "code",
      "metadata": {
        "id": "UnJ04Oauba4a"
      },
      "source": [
        "# selecionando colunas\n",
        "\n",
        "#df_mequi_selecionadas = df_mequi.filter(['Data', 'Produto', 'Veículo', 'Descrição da Campanha','Formato', 'Investimento', 'Impressões', 'Cliques no link', 'Video Views', 'Views 100%'])"
      ],
      "execution_count": null,
      "outputs": []
    },
    {
      "cell_type": "code",
      "metadata": {
        "colab": {
          "base_uri": "https://localhost:8080/"
        },
        "id": "AUzwJaxIbdnT",
        "outputId": "a319b759-eeab-4421-da88-ca07635fcc2a"
      },
      "source": [
        "concat_fb_tk_mn.info()"
      ],
      "execution_count": null,
      "outputs": [
        {
          "output_type": "stream",
          "name": "stdout",
          "text": [
            "<class 'pandas.core.frame.DataFrame'>\n",
            "Int64Index: 28516 entries, 0 to 11202\n",
            "Data columns (total 53 columns):\n",
            " #   Column                   Non-Null Count  Dtype \n",
            "---  ------                   --------------  ----- \n",
            " 0   date                     28516 non-null  object\n",
            " 1   goal                     28516 non-null  object\n",
            " 2   pillarName               28516 non-null  object\n",
            " 3   projectName              28516 non-null  object\n",
            " 4   campaignName             28516 non-null  object\n",
            " 5   obs                      28516 non-null  object\n",
            " 6   monthStart               28516 non-null  object\n",
            " 7   yearStart                28516 non-null  object\n",
            " 8   mediumType               28516 non-null  object\n",
            " 9   mediaOutlet              28516 non-null  object\n",
            " 10  outletChannel            28516 non-null  object\n",
            " 11  creativeLine             28516 non-null  object\n",
            " 12  callToAction             28516 non-null  object\n",
            " 13  adFormat                 28516 non-null  object\n",
            " 14  adDimension              28516 non-null  object\n",
            " 15  audienceType             28516 non-null  object\n",
            " 16  activationType           28516 non-null  object\n",
            " 17  purchaseType             28516 non-null  object\n",
            " 18  strategy                 28516 non-null  object\n",
            " 19  segmentation             28516 non-null  object\n",
            " 20  geolocation              28516 non-null  object\n",
            " 21  climate                  28516 non-null  object\n",
            " 22  time                     28516 non-null  object\n",
            " 23  device                   28516 non-null  object\n",
            " 24  animatedStatic           28516 non-null  object\n",
            " 25  startViews               28516 non-null  object\n",
            " 26  completeViews            28516 non-null  object\n",
            " 27  amountSpent              28516 non-null  object\n",
            " 28  totalImpressions         28516 non-null  object\n",
            " 29  totalClicks              28516 non-null  object\n",
            " 30  linkClicks               28516 non-null  object\n",
            " 31  visitsToStore            28516 non-null  object\n",
            " 32  postEngagements          28516 non-null  object\n",
            " 33  postShares               28516 non-null  object\n",
            " 34  postComments             28516 non-null  object\n",
            " 35  postReactions            28516 non-null  object\n",
            " 36  visits                   28516 non-null  object\n",
            " 37  bounces                  28516 non-null  object\n",
            " 38  installs                 28516 non-null  object\n",
            " 39  loyal users              28516 non-null  object\n",
            " 40  revenue                  28516 non-null  object\n",
            " 41  add_shoppingcart         28516 non-null  object\n",
            " 42  address_not_found        28516 non-null  object\n",
            " 43  banner_click             28516 non-null  object\n",
            " 44  complete_registration    28516 non-null  object\n",
            " 45  end_purchase             28516 non-null  object\n",
            " 46  get_offer                28516 non-null  object\n",
            " 47  login                    28516 non-null  object\n",
            " 48  nav_mcexperience_loaded  28516 non-null  object\n",
            " 49  nav_webvierarea_loaded   28516 non-null  object\n",
            " 50  view_offer               28516 non-null  object\n",
            " 51  cancel_order             28516 non-null  object\n",
            " 52  first_purchase           28516 non-null  object\n",
            "dtypes: object(53)\n",
            "memory usage: 11.7+ MB\n"
          ]
        }
      ]
    },
    {
      "cell_type": "code",
      "metadata": {
        "colab": {
          "base_uri": "https://localhost:8080/"
        },
        "id": "cDGQM-AHaVAb",
        "outputId": "aa6c44cb-1c0f-400f-e93e-be607d3345ed"
      },
      "source": [
        "concat_fb_tk_mn.columns.values"
      ],
      "execution_count": null,
      "outputs": [
        {
          "output_type": "execute_result",
          "data": {
            "text/plain": [
              "array(['date', 'goal', 'pillarName', 'projectName', 'campaignName', 'obs',\n",
              "       'monthStart', 'yearStart', 'mediumType', 'mediaOutlet',\n",
              "       'outletChannel', 'creativeLine', 'callToAction', 'adFormat',\n",
              "       'adDimension', 'audienceType', 'activationType', 'purchaseType',\n",
              "       'strategy', 'segmentation', 'geolocation', 'climate', 'time',\n",
              "       'device', 'animatedStatic', 'startViews', 'completeViews',\n",
              "       'amountSpent', 'totalImpressions', 'totalClicks', 'linkClicks',\n",
              "       'visitsToStore', 'postEngagements', 'postShares', 'postComments',\n",
              "       'postReactions', 'visits', 'bounces', 'installs', 'loyal users',\n",
              "       'revenue', 'add_shoppingcart', 'address_not_found', 'banner_click',\n",
              "       'complete_registration', 'end_purchase', 'get_offer', 'login',\n",
              "       'nav_mcexperience_loaded', 'nav_webvierarea_loaded', 'view_offer',\n",
              "       'cancel_order', 'first_purchase'], dtype=object)"
            ]
          },
          "metadata": {},
          "execution_count": 102
        }
      ]
    },
    {
      "cell_type": "code",
      "metadata": {
        "id": "P5fPSAHbeWQ3"
      },
      "source": [
        "# exportando para excel \n",
        "\n",
        "concat_fb_tk_mn.to_excel(\"mequi_nova_taxo.xls\",index=False)\n",
        "#concat_fb_tk.to_csv(\"mequi_nova_taxo.csv\",sep='\\t',encoding=\"utf-8\")"
      ],
      "execution_count": null,
      "outputs": []
    }
  ]
}