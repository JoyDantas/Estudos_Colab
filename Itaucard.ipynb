{
  "nbformat": 4,
  "nbformat_minor": 0,
  "metadata": {
    "colab": {
      "name": "Itaucard.ipynb",
      "provenance": [],
      "collapsed_sections": [],
      "mount_file_id": "1vShu71FWibzIXDVmWageQ3qEAmdjQify",
      "authorship_tag": "ABX9TyP1f2TnYF38RTgl43YczK2t",
      "include_colab_link": true
    },
    "kernelspec": {
      "name": "python3",
      "display_name": "Python 3"
    },
    "language_info": {
      "name": "python"
    }
  },
  "cells": [
    {
      "cell_type": "markdown",
      "metadata": {
        "id": "view-in-github",
        "colab_type": "text"
      },
      "source": [
        "<a href=\"https://colab.research.google.com/github/JoyDantas/Estudos_Colab/blob/main/Itaucard.ipynb\" target=\"_parent\"><img src=\"https://colab.research.google.com/assets/colab-badge.svg\" alt=\"Open In Colab\"/></a>"
      ]
    },
    {
      "cell_type": "code",
      "metadata": {
        "id": "x9_YHLTXHAoW"
      },
      "source": [
        ""
      ],
      "execution_count": null,
      "outputs": []
    },
    {
      "cell_type": "code",
      "metadata": {
        "colab": {
          "base_uri": "https://localhost:8080/"
        },
        "id": "BRc1J5ktsdEu",
        "outputId": "e12704e0-8ee1-4c5c-f8bc-bb90d779ef35"
      },
      "source": [
        "import pandas as pd\n",
        "!pip install --upgrade gspread ## atualizando o pacote"
      ],
      "execution_count": null,
      "outputs": [
        {
          "output_type": "stream",
          "name": "stdout",
          "text": [
            "Requirement already satisfied: gspread in /usr/local/lib/python3.7/dist-packages (4.0.1)\n",
            "Requirement already satisfied: google-auth-oauthlib>=0.4.1 in /usr/local/lib/python3.7/dist-packages (from gspread) (0.4.6)\n",
            "Requirement already satisfied: google-auth>=1.12.0 in /usr/local/lib/python3.7/dist-packages (from gspread) (1.35.0)\n",
            "Requirement already satisfied: rsa<5,>=3.1.4 in /usr/local/lib/python3.7/dist-packages (from google-auth>=1.12.0->gspread) (4.7.2)\n",
            "Requirement already satisfied: pyasn1-modules>=0.2.1 in /usr/local/lib/python3.7/dist-packages (from google-auth>=1.12.0->gspread) (0.2.8)\n",
            "Requirement already satisfied: cachetools<5.0,>=2.0.0 in /usr/local/lib/python3.7/dist-packages (from google-auth>=1.12.0->gspread) (4.2.4)\n",
            "Requirement already satisfied: setuptools>=40.3.0 in /usr/local/lib/python3.7/dist-packages (from google-auth>=1.12.0->gspread) (57.4.0)\n",
            "Requirement already satisfied: six>=1.9.0 in /usr/local/lib/python3.7/dist-packages (from google-auth>=1.12.0->gspread) (1.15.0)\n",
            "Requirement already satisfied: requests-oauthlib>=0.7.0 in /usr/local/lib/python3.7/dist-packages (from google-auth-oauthlib>=0.4.1->gspread) (1.3.0)\n",
            "Requirement already satisfied: pyasn1<0.5.0,>=0.4.6 in /usr/local/lib/python3.7/dist-packages (from pyasn1-modules>=0.2.1->google-auth>=1.12.0->gspread) (0.4.8)\n",
            "Requirement already satisfied: oauthlib>=3.0.0 in /usr/local/lib/python3.7/dist-packages (from requests-oauthlib>=0.7.0->google-auth-oauthlib>=0.4.1->gspread) (3.1.1)\n",
            "Requirement already satisfied: requests>=2.0.0 in /usr/local/lib/python3.7/dist-packages (from requests-oauthlib>=0.7.0->google-auth-oauthlib>=0.4.1->gspread) (2.23.0)\n",
            "Requirement already satisfied: idna<3,>=2.5 in /usr/local/lib/python3.7/dist-packages (from requests>=2.0.0->requests-oauthlib>=0.7.0->google-auth-oauthlib>=0.4.1->gspread) (2.10)\n",
            "Requirement already satisfied: urllib3!=1.25.0,!=1.25.1,<1.26,>=1.21.1 in /usr/local/lib/python3.7/dist-packages (from requests>=2.0.0->requests-oauthlib>=0.7.0->google-auth-oauthlib>=0.4.1->gspread) (1.24.3)\n",
            "Requirement already satisfied: certifi>=2017.4.17 in /usr/local/lib/python3.7/dist-packages (from requests>=2.0.0->requests-oauthlib>=0.7.0->google-auth-oauthlib>=0.4.1->gspread) (2021.10.8)\n",
            "Requirement already satisfied: chardet<4,>=3.0.2 in /usr/local/lib/python3.7/dist-packages (from requests>=2.0.0->requests-oauthlib>=0.7.0->google-auth-oauthlib>=0.4.1->gspread) (3.0.4)\n"
          ]
        }
      ]
    },
    {
      "cell_type": "code",
      "metadata": {
        "id": "wG75hPB4s3AF"
      },
      "source": [
        "from google.colab import auth\n",
        "auth.authenticate_user()\n",
        "\n",
        "import gspread\n",
        "from oauth2client.client import GoogleCredentials\n",
        "\n",
        "gc = gspread.authorize(GoogleCredentials.get_application_default())"
      ],
      "execution_count": null,
      "outputs": []
    },
    {
      "cell_type": "code",
      "metadata": {
        "id": "A0SJXF87tNSj"
      },
      "source": [
        "itaucard = gc.open(\"Itaú Institucional | Itaucard | 2021\")"
      ],
      "execution_count": null,
      "outputs": []
    },
    {
      "cell_type": "code",
      "metadata": {
        "id": "sl47gy_dzyjI"
      },
      "source": [
        "itaucard_wkb = itaucard.worksheet('Workbook')"
      ],
      "execution_count": null,
      "outputs": []
    },
    {
      "cell_type": "code",
      "metadata": {
        "id": "TpIMREYczyjI"
      },
      "source": [
        "## transformando e data frame \n",
        "\n",
        "df_itaucard = pd.DataFrame(itaucard_wkb.get_all_records())"
      ],
      "execution_count": null,
      "outputs": []
    },
    {
      "cell_type": "code",
      "metadata": {
        "id": "ffHPFU1yzyjI"
      },
      "source": [
        "# selecionando colunas\n",
        "\n",
        "df_itaucard_selecionadas = df_itaucard.filter(['Data', 'Produto', 'Veículo', 'Descrição da Campanha',\n",
        "                                                 'Formato', 'Investimento', 'Impressões', 'Cliques no link', 'Video Views', 'Views 100%'])"
      ],
      "execution_count": null,
      "outputs": []
    },
    {
      "cell_type": "code",
      "metadata": {
        "colab": {
          "base_uri": "https://localhost:8080/"
        },
        "id": "JfbdJ37_zyjI",
        "outputId": "a786580f-293d-4692-cff1-096dceb3fb5c"
      },
      "source": [
        "df_itaucard_selecionadas.info()"
      ],
      "execution_count": null,
      "outputs": [
        {
          "output_type": "stream",
          "name": "stdout",
          "text": [
            "<class 'pandas.core.frame.DataFrame'>\n",
            "RangeIndex: 9929 entries, 0 to 9928\n",
            "Data columns (total 10 columns):\n",
            " #   Column                 Non-Null Count  Dtype \n",
            "---  ------                 --------------  ----- \n",
            " 0   Data                   9929 non-null   object\n",
            " 1   Produto                9929 non-null   object\n",
            " 2   Veículo                9929 non-null   object\n",
            " 3   Descrição da Campanha  9929 non-null   object\n",
            " 4   Formato                9929 non-null   object\n",
            " 5   Investimento           9929 non-null   object\n",
            " 6   Impressões             9929 non-null   object\n",
            " 7   Cliques no link        9929 non-null   object\n",
            " 8   Video Views            9929 non-null   object\n",
            " 9   Views 100%             9929 non-null   object\n",
            "dtypes: object(10)\n",
            "memory usage: 775.8+ KB\n"
          ]
        }
      ]
    },
    {
      "cell_type": "code",
      "metadata": {
        "id": "MO7CCJPdzyjJ"
      },
      "source": [
        "## trocando formato dos dados\n",
        "\n",
        "df_itaucard_selecionadas['Impressões'] = pd.to_numeric(df_itaucard_selecionadas['Impressões'])\n",
        "df_itaucard_selecionadas['Investimento'] = pd.to_numeric(df_itaucard_selecionadas['Investimento'])\n",
        "df_itaucard_selecionadas['Cliques no link'] = pd.to_numeric(df_itaucard_selecionadas['Cliques no link'])\n",
        "df_itaucard_selecionadas['Video Views'] = pd.to_numeric(df_itaucard_selecionadas['Video Views'])\n",
        "df_itaucard_selecionadas['Views 100%'] = pd.to_numeric(df_itaucard_selecionadas['Views 100%'])\n"
      ],
      "execution_count": null,
      "outputs": []
    },
    {
      "cell_type": "code",
      "metadata": {
        "colab": {
          "base_uri": "https://localhost:8080/"
        },
        "id": "c95_l_UTzyjJ",
        "outputId": "0925d891-38df-4f9d-ccb1-f9b4bb4e0436"
      },
      "source": [
        "df_itaucard_selecionadas.info()"
      ],
      "execution_count": null,
      "outputs": [
        {
          "output_type": "stream",
          "name": "stdout",
          "text": [
            "<class 'pandas.core.frame.DataFrame'>\n",
            "RangeIndex: 9929 entries, 0 to 9928\n",
            "Data columns (total 10 columns):\n",
            " #   Column                 Non-Null Count  Dtype  \n",
            "---  ------                 --------------  -----  \n",
            " 0   Data                   9929 non-null   object \n",
            " 1   Produto                9929 non-null   object \n",
            " 2   Veículo                9929 non-null   object \n",
            " 3   Descrição da Campanha  9929 non-null   object \n",
            " 4   Formato                9929 non-null   object \n",
            " 5   Investimento           4331 non-null   float64\n",
            " 6   Impressões             4337 non-null   float64\n",
            " 7   Cliques no link        4337 non-null   float64\n",
            " 8   Video Views            4246 non-null   float64\n",
            " 9   Views 100%             4246 non-null   float64\n",
            "dtypes: float64(5), object(5)\n",
            "memory usage: 775.8+ KB\n"
          ]
        }
      ]
    },
    {
      "cell_type": "code",
      "metadata": {
        "id": "55AMXg3yzyjJ"
      },
      "source": [
        "## selecionando veiculo\n",
        "selecionadas_g = df_itaucard_selecionadas.loc[(df_itaucard_selecionadas[\"Veículo\"] == \"google-ads\")]\n",
        "selecionadas_f = df_itaucard_selecionadas.loc[(df_itaucard_selecionadas[\"Veículo\"] == \"facebook\")]                                          \n",
        "selecionadas_i = df_itaucard_selecionadas.loc[(df_itaucard_selecionadas[\"Veículo\"]== \"instagram\")]\n",
        "selecionadas_y = df_itaucard_selecionadas.loc[(df_itaucard_selecionadas[\"Veículo\"]== \"youtube\")]"
      ],
      "execution_count": null,
      "outputs": []
    },
    {
      "cell_type": "code",
      "metadata": {
        "id": "gqMQ3EcYzyjK"
      },
      "source": [
        "concat_g_f_i_y = [selecionadas_i,selecionadas_g,selecionadas_f,selecionadas_y]\n",
        "concat_g_f_i_y = pd.concat(concat_g_f_i_y)"
      ],
      "execution_count": null,
      "outputs": []
    },
    {
      "cell_type": "code",
      "metadata": {
        "colab": {
          "base_uri": "https://localhost:8080/"
        },
        "id": "C4OpYRA4zyjK",
        "outputId": "f0866824-c6ee-4873-87ab-e03c1321060b"
      },
      "source": [
        "concat_g_f_i_y.info()"
      ],
      "execution_count": null,
      "outputs": [
        {
          "output_type": "stream",
          "name": "stdout",
          "text": [
            "<class 'pandas.core.frame.DataFrame'>\n",
            "Int64Index: 5937 entries, 7 to 6656\n",
            "Data columns (total 10 columns):\n",
            " #   Column                 Non-Null Count  Dtype  \n",
            "---  ------                 --------------  -----  \n",
            " 0   Data                   5937 non-null   object \n",
            " 1   Produto                5937 non-null   object \n",
            " 2   Veículo                5937 non-null   object \n",
            " 3   Descrição da Campanha  5937 non-null   object \n",
            " 4   Formato                5937 non-null   object \n",
            " 5   Investimento           3595 non-null   float64\n",
            " 6   Impressões             3595 non-null   float64\n",
            " 7   Cliques no link        3595 non-null   float64\n",
            " 8   Video Views            3595 non-null   float64\n",
            " 9   Views 100%             3595 non-null   float64\n",
            "dtypes: float64(5), object(5)\n",
            "memory usage: 510.2+ KB\n"
          ]
        }
      ]
    },
    {
      "cell_type": "code",
      "metadata": {
        "colab": {
          "base_uri": "https://localhost:8080/",
          "height": 423
        },
        "id": "pUknDVjbzyjL",
        "outputId": "8158d47b-dbc1-4c5a-b21d-26b4a2ba2871"
      },
      "source": [
        "# Tratamento taxonomia\n",
        "# primeiro selecionando os resultados\n",
        "\n",
        "concat_g_f_i_y.loc[(concat_g_f_i_y[\"Produto\"] == \"_nao-se-aplica\")]"
      ],
      "execution_count": null,
      "outputs": [
        {
          "output_type": "execute_result",
          "data": {
            "text/html": [
              "<div>\n",
              "<style scoped>\n",
              "    .dataframe tbody tr th:only-of-type {\n",
              "        vertical-align: middle;\n",
              "    }\n",
              "\n",
              "    .dataframe tbody tr th {\n",
              "        vertical-align: top;\n",
              "    }\n",
              "\n",
              "    .dataframe thead th {\n",
              "        text-align: right;\n",
              "    }\n",
              "</style>\n",
              "<table border=\"1\" class=\"dataframe\">\n",
              "  <thead>\n",
              "    <tr style=\"text-align: right;\">\n",
              "      <th></th>\n",
              "      <th>Data</th>\n",
              "      <th>Produto</th>\n",
              "      <th>Veículo</th>\n",
              "      <th>Descrição da Campanha</th>\n",
              "      <th>Formato</th>\n",
              "      <th>Investimento</th>\n",
              "      <th>Impressões</th>\n",
              "      <th>Cliques no link</th>\n",
              "      <th>Video Views</th>\n",
              "      <th>Views 100%</th>\n",
              "    </tr>\n",
              "  </thead>\n",
              "  <tbody>\n",
              "    <tr>\n",
              "      <th>553</th>\n",
              "      <td>3/10/2021</td>\n",
              "      <td>_nao-se-aplica</td>\n",
              "      <td>instagram</td>\n",
              "      <td>vai de visa</td>\n",
              "      <td>stories</td>\n",
              "      <td>189.34</td>\n",
              "      <td>54439.0</td>\n",
              "      <td>45.0</td>\n",
              "      <td>1504.0</td>\n",
              "      <td>393.0</td>\n",
              "    </tr>\n",
              "    <tr>\n",
              "      <th>568</th>\n",
              "      <td>3/11/2021</td>\n",
              "      <td>_nao-se-aplica</td>\n",
              "      <td>instagram</td>\n",
              "      <td>vai de visa</td>\n",
              "      <td>stories</td>\n",
              "      <td>176.19</td>\n",
              "      <td>38911.0</td>\n",
              "      <td>39.0</td>\n",
              "      <td>1200.0</td>\n",
              "      <td>266.0</td>\n",
              "    </tr>\n",
              "    <tr>\n",
              "      <th>583</th>\n",
              "      <td>3/12/2021</td>\n",
              "      <td>_nao-se-aplica</td>\n",
              "      <td>instagram</td>\n",
              "      <td>vai de visa</td>\n",
              "      <td>stories</td>\n",
              "      <td>661.31</td>\n",
              "      <td>134979.0</td>\n",
              "      <td>180.0</td>\n",
              "      <td>4714.0</td>\n",
              "      <td>1261.0</td>\n",
              "    </tr>\n",
              "    <tr>\n",
              "      <th>598</th>\n",
              "      <td>3/13/2021</td>\n",
              "      <td>_nao-se-aplica</td>\n",
              "      <td>instagram</td>\n",
              "      <td>vai de visa</td>\n",
              "      <td>stories</td>\n",
              "      <td>825.72</td>\n",
              "      <td>115446.0</td>\n",
              "      <td>217.0</td>\n",
              "      <td>5437.0</td>\n",
              "      <td>1390.0</td>\n",
              "    </tr>\n",
              "    <tr>\n",
              "      <th>613</th>\n",
              "      <td>3/14/2021</td>\n",
              "      <td>_nao-se-aplica</td>\n",
              "      <td>instagram</td>\n",
              "      <td>vai de visa</td>\n",
              "      <td>stories</td>\n",
              "      <td>998.75</td>\n",
              "      <td>114530.0</td>\n",
              "      <td>308.0</td>\n",
              "      <td>6005.0</td>\n",
              "      <td>1567.0</td>\n",
              "    </tr>\n",
              "    <tr>\n",
              "      <th>...</th>\n",
              "      <td>...</td>\n",
              "      <td>...</td>\n",
              "      <td>...</td>\n",
              "      <td>...</td>\n",
              "      <td>...</td>\n",
              "      <td>...</td>\n",
              "      <td>...</td>\n",
              "      <td>...</td>\n",
              "      <td>...</td>\n",
              "      <td>...</td>\n",
              "    </tr>\n",
              "    <tr>\n",
              "      <th>6633</th>\n",
              "      <td>11/20/2021</td>\n",
              "      <td>_nao-se-aplica</td>\n",
              "      <td>youtube</td>\n",
              "      <td>(not set)</td>\n",
              "      <td>bumper-ads</td>\n",
              "      <td>NaN</td>\n",
              "      <td>NaN</td>\n",
              "      <td>NaN</td>\n",
              "      <td>NaN</td>\n",
              "      <td>NaN</td>\n",
              "    </tr>\n",
              "    <tr>\n",
              "      <th>6634</th>\n",
              "      <td>11/20/2021</td>\n",
              "      <td>_nao-se-aplica</td>\n",
              "      <td>youtube</td>\n",
              "      <td>(not set)</td>\n",
              "      <td>bumper-ads</td>\n",
              "      <td>NaN</td>\n",
              "      <td>NaN</td>\n",
              "      <td>NaN</td>\n",
              "      <td>NaN</td>\n",
              "      <td>NaN</td>\n",
              "    </tr>\n",
              "    <tr>\n",
              "      <th>6643</th>\n",
              "      <td>11/21/2021</td>\n",
              "      <td>_nao-se-aplica</td>\n",
              "      <td>youtube</td>\n",
              "      <td>(not set)</td>\n",
              "      <td>bumper-ads</td>\n",
              "      <td>NaN</td>\n",
              "      <td>NaN</td>\n",
              "      <td>NaN</td>\n",
              "      <td>NaN</td>\n",
              "      <td>NaN</td>\n",
              "    </tr>\n",
              "    <tr>\n",
              "      <th>6644</th>\n",
              "      <td>11/21/2021</td>\n",
              "      <td>_nao-se-aplica</td>\n",
              "      <td>youtube</td>\n",
              "      <td>(not set)</td>\n",
              "      <td>bumper-ads</td>\n",
              "      <td>NaN</td>\n",
              "      <td>NaN</td>\n",
              "      <td>NaN</td>\n",
              "      <td>NaN</td>\n",
              "      <td>NaN</td>\n",
              "    </tr>\n",
              "    <tr>\n",
              "      <th>6651</th>\n",
              "      <td>11/22/2021</td>\n",
              "      <td>_nao-se-aplica</td>\n",
              "      <td>youtube</td>\n",
              "      <td>(not set)</td>\n",
              "      <td>bumper-ads</td>\n",
              "      <td>NaN</td>\n",
              "      <td>NaN</td>\n",
              "      <td>NaN</td>\n",
              "      <td>NaN</td>\n",
              "      <td>NaN</td>\n",
              "    </tr>\n",
              "  </tbody>\n",
              "</table>\n",
              "<p>2887 rows × 10 columns</p>\n",
              "</div>"
            ],
            "text/plain": [
              "            Data         Produto  ... Video Views Views 100%\n",
              "553    3/10/2021  _nao-se-aplica  ...      1504.0      393.0\n",
              "568    3/11/2021  _nao-se-aplica  ...      1200.0      266.0\n",
              "583    3/12/2021  _nao-se-aplica  ...      4714.0     1261.0\n",
              "598    3/13/2021  _nao-se-aplica  ...      5437.0     1390.0\n",
              "613    3/14/2021  _nao-se-aplica  ...      6005.0     1567.0\n",
              "...          ...             ...  ...         ...        ...\n",
              "6633  11/20/2021  _nao-se-aplica  ...         NaN        NaN\n",
              "6634  11/20/2021  _nao-se-aplica  ...         NaN        NaN\n",
              "6643  11/21/2021  _nao-se-aplica  ...         NaN        NaN\n",
              "6644  11/21/2021  _nao-se-aplica  ...         NaN        NaN\n",
              "6651  11/22/2021  _nao-se-aplica  ...         NaN        NaN\n",
              "\n",
              "[2887 rows x 10 columns]"
            ]
          },
          "metadata": {},
          "execution_count": 41
        }
      ]
    },
    {
      "cell_type": "code",
      "metadata": {
        "id": "PtsmhagBzyjL"
      },
      "source": [
        "\n",
        "# replace produto\n",
        "itaucard_tratado = concat_g_f_i_y.replace([\"Produto\", \"_nao-se-aplica\"], \"Itaucard\")\n"
      ],
      "execution_count": null,
      "outputs": []
    },
    {
      "cell_type": "code",
      "metadata": {
        "colab": {
          "base_uri": "https://localhost:8080/",
          "height": 206
        },
        "id": "un12zhZYzyjL",
        "outputId": "66686224-6f82-45e0-d5e9-215368e2f25f"
      },
      "source": [
        "itaucard_tratado.head()"
      ],
      "execution_count": null,
      "outputs": [
        {
          "output_type": "execute_result",
          "data": {
            "text/html": [
              "<div>\n",
              "<style scoped>\n",
              "    .dataframe tbody tr th:only-of-type {\n",
              "        vertical-align: middle;\n",
              "    }\n",
              "\n",
              "    .dataframe tbody tr th {\n",
              "        vertical-align: top;\n",
              "    }\n",
              "\n",
              "    .dataframe thead th {\n",
              "        text-align: right;\n",
              "    }\n",
              "</style>\n",
              "<table border=\"1\" class=\"dataframe\">\n",
              "  <thead>\n",
              "    <tr style=\"text-align: right;\">\n",
              "      <th></th>\n",
              "      <th>Data</th>\n",
              "      <th>Produto</th>\n",
              "      <th>Veículo</th>\n",
              "      <th>Descrição da Campanha</th>\n",
              "      <th>Formato</th>\n",
              "      <th>Investimento</th>\n",
              "      <th>Impressões</th>\n",
              "      <th>Cliques no link</th>\n",
              "      <th>Video Views</th>\n",
              "      <th>Views 100%</th>\n",
              "    </tr>\n",
              "  </thead>\n",
              "  <tbody>\n",
              "    <tr>\n",
              "      <th>7</th>\n",
              "      <td>2/1/2021</td>\n",
              "      <td>cartoes-itaucard</td>\n",
              "      <td>instagram</td>\n",
              "      <td>crédito pindaiba</td>\n",
              "      <td>carrossel</td>\n",
              "      <td>72.05</td>\n",
              "      <td>11555.0</td>\n",
              "      <td>83.0</td>\n",
              "      <td>0.0</td>\n",
              "      <td>0.0</td>\n",
              "    </tr>\n",
              "    <tr>\n",
              "      <th>9</th>\n",
              "      <td>2/2/2021</td>\n",
              "      <td>cartoes-itaucard</td>\n",
              "      <td>instagram</td>\n",
              "      <td>crédito pindaiba</td>\n",
              "      <td>carrossel</td>\n",
              "      <td>275.66</td>\n",
              "      <td>12543.0</td>\n",
              "      <td>7.0</td>\n",
              "      <td>0.0</td>\n",
              "      <td>0.0</td>\n",
              "    </tr>\n",
              "    <tr>\n",
              "      <th>13</th>\n",
              "      <td>2/2/2021</td>\n",
              "      <td>cartoes-itaucard</td>\n",
              "      <td>instagram</td>\n",
              "      <td>crédito pindaiba</td>\n",
              "      <td>stories</td>\n",
              "      <td>156.80</td>\n",
              "      <td>37951.0</td>\n",
              "      <td>31.0</td>\n",
              "      <td>2263.0</td>\n",
              "      <td>857.0</td>\n",
              "    </tr>\n",
              "    <tr>\n",
              "      <th>14</th>\n",
              "      <td>2/2/2021</td>\n",
              "      <td>cartoes-itaucard</td>\n",
              "      <td>instagram</td>\n",
              "      <td>crédito pindaiba</td>\n",
              "      <td>stories</td>\n",
              "      <td>444.96</td>\n",
              "      <td>108891.0</td>\n",
              "      <td>98.0</td>\n",
              "      <td>7443.0</td>\n",
              "      <td>2681.0</td>\n",
              "    </tr>\n",
              "    <tr>\n",
              "      <th>15</th>\n",
              "      <td>2/2/2021</td>\n",
              "      <td>cartoes-itaucard</td>\n",
              "      <td>instagram</td>\n",
              "      <td>crédito pindaiba</td>\n",
              "      <td>stories</td>\n",
              "      <td>112.69</td>\n",
              "      <td>25552.0</td>\n",
              "      <td>22.0</td>\n",
              "      <td>1178.0</td>\n",
              "      <td>458.0</td>\n",
              "    </tr>\n",
              "  </tbody>\n",
              "</table>\n",
              "</div>"
            ],
            "text/plain": [
              "        Data           Produto  ... Video Views Views 100%\n",
              "7   2/1/2021  cartoes-itaucard  ...         0.0        0.0\n",
              "9   2/2/2021  cartoes-itaucard  ...         0.0        0.0\n",
              "13  2/2/2021  cartoes-itaucard  ...      2263.0      857.0\n",
              "14  2/2/2021  cartoes-itaucard  ...      7443.0     2681.0\n",
              "15  2/2/2021  cartoes-itaucard  ...      1178.0      458.0\n",
              "\n",
              "[5 rows x 10 columns]"
            ]
          },
          "metadata": {},
          "execution_count": 43
        }
      ]
    },
    {
      "cell_type": "code",
      "metadata": {
        "id": "bFFXITK2zyjL"
      },
      "source": [
        "#itaucard_tratado.loc[(concat_g_f_i[\"Produto\"] == \"(not set)\")]"
      ],
      "execution_count": null,
      "outputs": []
    },
    {
      "cell_type": "code",
      "metadata": {
        "id": "rOKsPgCnzyjL"
      },
      "source": [
        "#itaucard_tratado = concat_g_f_i.replace([\"Produto\", \"(not set)\"], \"Crédito Imobiliário\")"
      ],
      "execution_count": null,
      "outputs": []
    },
    {
      "cell_type": "code",
      "metadata": {
        "id": "lq7xd67TzyjM"
      },
      "source": [
        "#concat_g_f_i.loc[(concat_g_f_i[\"Produto\"] == \"ip-investimentos\")]"
      ],
      "execution_count": null,
      "outputs": []
    },
    {
      "cell_type": "code",
      "metadata": {
        "id": "wUysD-VRzyjM"
      },
      "source": [
        "#itaucard_tratado = concat_g_f_i.replace([\"Produto\", \"ip-investimentos\"], \"Investimentos\")"
      ],
      "execution_count": null,
      "outputs": []
    },
    {
      "cell_type": "code",
      "metadata": {
        "id": "gSQ1QIIPzyjM"
      },
      "source": [
        "#itaucard_tratado.head()"
      ],
      "execution_count": null,
      "outputs": []
    },
    {
      "cell_type": "code",
      "metadata": {
        "id": "Tkjtp29SzyjM"
      },
      "source": [
        "# tratando o veículo\n",
        "\n",
        "itaucard_tratado = itaucard_tratado.replace([\"Veículo\", \"facebook\"], \"Facebook\")\n",
        "itaucard_tratado = itaucard_tratado.replace([\"Veículo\", \"google-ads\"], \"Google-ads\")\n",
        "itaucard_tratado = itaucard_tratado.replace([\"Veículo\", \"instagram\"], \"Instagram\")\n",
        "itaucard_tratado = itaucard_tratado.replace([\"Veículo\", \"youtube\"], \"Youtube\")"
      ],
      "execution_count": null,
      "outputs": []
    },
    {
      "cell_type": "code",
      "metadata": {
        "colab": {
          "base_uri": "https://localhost:8080/",
          "height": 206
        },
        "id": "fXz6sqsRzyjM",
        "outputId": "70d01b7a-206e-4d8b-c830-a6ae84ef7edb"
      },
      "source": [
        "itaucard_tratado.groupby('Veículo').count()"
      ],
      "execution_count": null,
      "outputs": [
        {
          "output_type": "execute_result",
          "data": {
            "text/html": [
              "<div>\n",
              "<style scoped>\n",
              "    .dataframe tbody tr th:only-of-type {\n",
              "        vertical-align: middle;\n",
              "    }\n",
              "\n",
              "    .dataframe tbody tr th {\n",
              "        vertical-align: top;\n",
              "    }\n",
              "\n",
              "    .dataframe thead th {\n",
              "        text-align: right;\n",
              "    }\n",
              "</style>\n",
              "<table border=\"1\" class=\"dataframe\">\n",
              "  <thead>\n",
              "    <tr style=\"text-align: right;\">\n",
              "      <th></th>\n",
              "      <th>Data</th>\n",
              "      <th>Produto</th>\n",
              "      <th>Descrição da Campanha</th>\n",
              "      <th>Formato</th>\n",
              "      <th>Investimento</th>\n",
              "      <th>Impressões</th>\n",
              "      <th>Cliques no link</th>\n",
              "      <th>Video Views</th>\n",
              "      <th>Views 100%</th>\n",
              "    </tr>\n",
              "    <tr>\n",
              "      <th>Veículo</th>\n",
              "      <th></th>\n",
              "      <th></th>\n",
              "      <th></th>\n",
              "      <th></th>\n",
              "      <th></th>\n",
              "      <th></th>\n",
              "      <th></th>\n",
              "      <th></th>\n",
              "      <th></th>\n",
              "    </tr>\n",
              "  </thead>\n",
              "  <tbody>\n",
              "    <tr>\n",
              "      <th>Facebook</th>\n",
              "      <td>2092</td>\n",
              "      <td>2092</td>\n",
              "      <td>2092</td>\n",
              "      <td>2092</td>\n",
              "      <td>1293</td>\n",
              "      <td>1293</td>\n",
              "      <td>1293</td>\n",
              "      <td>1293</td>\n",
              "      <td>1293</td>\n",
              "    </tr>\n",
              "    <tr>\n",
              "      <th>Google-ads</th>\n",
              "      <td>2231</td>\n",
              "      <td>2231</td>\n",
              "      <td>2231</td>\n",
              "      <td>2231</td>\n",
              "      <td>1432</td>\n",
              "      <td>1432</td>\n",
              "      <td>1432</td>\n",
              "      <td>1432</td>\n",
              "      <td>1432</td>\n",
              "    </tr>\n",
              "    <tr>\n",
              "      <th>Instagram</th>\n",
              "      <td>658</td>\n",
              "      <td>658</td>\n",
              "      <td>658</td>\n",
              "      <td>658</td>\n",
              "      <td>623</td>\n",
              "      <td>623</td>\n",
              "      <td>623</td>\n",
              "      <td>623</td>\n",
              "      <td>623</td>\n",
              "    </tr>\n",
              "    <tr>\n",
              "      <th>Youtube</th>\n",
              "      <td>956</td>\n",
              "      <td>956</td>\n",
              "      <td>956</td>\n",
              "      <td>956</td>\n",
              "      <td>247</td>\n",
              "      <td>247</td>\n",
              "      <td>247</td>\n",
              "      <td>247</td>\n",
              "      <td>247</td>\n",
              "    </tr>\n",
              "  </tbody>\n",
              "</table>\n",
              "</div>"
            ],
            "text/plain": [
              "            Data  Produto  ...  Video Views  Views 100%\n",
              "Veículo                    ...                         \n",
              "Facebook    2092     2092  ...         1293        1293\n",
              "Google-ads  2231     2231  ...         1432        1432\n",
              "Instagram    658      658  ...          623         623\n",
              "Youtube      956      956  ...          247         247\n",
              "\n",
              "[4 rows x 9 columns]"
            ]
          },
          "metadata": {},
          "execution_count": 54
        }
      ]
    },
    {
      "cell_type": "code",
      "metadata": {
        "id": "eOAFdhPzzyjM"
      },
      "source": [
        "# exportando para excel \n",
        "itaucard_tratado.to_excel(\"itaucard.xls\",index=False)"
      ],
      "execution_count": null,
      "outputs": []
    },
    {
      "cell_type": "code",
      "metadata": {
        "id": "mfh8ARcBzyjM"
      },
      "source": [
        "# exportando para csv \n",
        "#itaucard_tratado.to_csv(\"investimento_mar.xls\",sep='\\t',encoding=\"utf-8\")"
      ],
      "execution_count": null,
      "outputs": []
    }
  ]
}