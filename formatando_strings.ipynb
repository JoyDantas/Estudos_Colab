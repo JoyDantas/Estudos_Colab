{
  "nbformat": 4,
  "nbformat_minor": 0,
  "metadata": {
    "colab": {
      "name": "formatando strings.ipynb",
      "provenance": [],
      "authorship_tag": "ABX9TyOKHXQLg3BTWxofGXCjNhk3",
      "include_colab_link": true
    },
    "kernelspec": {
      "name": "python3",
      "display_name": "Python 3"
    },
    "language_info": {
      "name": "python"
    }
  },
  "cells": [
    {
      "cell_type": "markdown",
      "metadata": {
        "id": "view-in-github",
        "colab_type": "text"
      },
      "source": [
        "<a href=\"https://colab.research.google.com/github/JoyDantas/Estudos_Colab/blob/main/formatando_strings.ipynb\" target=\"_parent\"><img src=\"https://colab.research.google.com/assets/colab-badge.svg\" alt=\"Open In Colab\"/></a>"
      ]
    },
    {
      "cell_type": "code",
      "metadata": {
        "id": "lAJghZNIuno9"
      },
      "source": [
        "num = 42 "
      ],
      "execution_count": 1,
      "outputs": []
    },
    {
      "cell_type": "code",
      "metadata": {
        "colab": {
          "base_uri": "https://localhost:8080/"
        },
        "id": "YUsAl6Dyo1KW",
        "outputId": "3ce535ec-32b8-4b27-bc20-27de8329515a"
      },
      "source": [
        "print(42)"
      ],
      "execution_count": 3,
      "outputs": [
        {
          "output_type": "stream",
          "name": "stdout",
          "text": [
            "42\n"
          ]
        }
      ]
    },
    {
      "cell_type": "code",
      "metadata": {
        "colab": {
          "base_uri": "https://localhost:8080/"
        },
        "id": "uRNBHH1TwYVB",
        "outputId": "7199e7ca-8252-448b-d60c-5d3eb1a01400"
      },
      "source": [
        "print('meu numero é',num)"
      ],
      "execution_count": 6,
      "outputs": [
        {
          "output_type": "stream",
          "name": "stdout",
          "text": [
            "meu numero é 42\n"
          ]
        }
      ]
    },
    {
      "cell_type": "code",
      "metadata": {
        "colab": {
          "base_uri": "https://localhost:8080/"
        },
        "id": "t9GNjLNjwmDw",
        "outputId": "5dc54f56-b628-4367-c270-6897ff1c9de5"
      },
      "source": [
        "print(f'Meu numero é {num}')"
      ],
      "execution_count": 7,
      "outputs": [
        {
          "output_type": "stream",
          "name": "stdout",
          "text": [
            "Meu numero é 42\n"
          ]
        }
      ]
    },
    {
      "cell_type": "code",
      "metadata": {
        "id": "v3DmXy28wzTT"
      },
      "source": [
        "answer = 42\n",
        "pi = 3.14159"
      ],
      "execution_count": 8,
      "outputs": []
    },
    {
      "cell_type": "code",
      "metadata": {
        "colab": {
          "base_uri": "https://localhost:8080/"
        },
        "id": "VD5M8v1nw_ah",
        "outputId": "812aaddb-ad86-495c-f93f-5f7fcb38e0c6"
      },
      "source": [
        "print(f'A questão é {answer} e pi é {pi}')"
      ],
      "execution_count": 9,
      "outputs": [
        {
          "output_type": "stream",
          "name": "stdout",
          "text": [
            "A questão é 42 e pi é 3.14159\n"
          ]
        }
      ]
    },
    {
      "cell_type": "code",
      "metadata": {
        "id": "I43n1JDJxRXq"
      },
      "source": [
        "dic = {'answer':42, 'pi':3.14159}"
      ],
      "execution_count": 10,
      "outputs": []
    },
    {
      "cell_type": "code",
      "metadata": {
        "colab": {
          "base_uri": "https://localhost:8080/"
        },
        "id": "fL7Vas_Gxgvc",
        "outputId": "e043a598-9e36-4ea5-a1ed-22f068b6def3"
      },
      "source": [
        "## observar o uso das aspas '' e \"\"\n",
        "\n",
        "print(f\"A questão é {dic['answer']} e pi é {dic['pi']}\")"
      ],
      "execution_count": 15,
      "outputs": [
        {
          "output_type": "stream",
          "name": "stdout",
          "text": [
            "A questão é 42 e pi é 3.14159\n"
          ]
        }
      ]
    }
  ]
}