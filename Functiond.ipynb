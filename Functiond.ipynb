{
  "nbformat": 4,
  "nbformat_minor": 0,
  "metadata": {
    "colab": {
      "name": "Functiond.ipynb",
      "provenance": [],
      "authorship_tag": "ABX9TyNwt5kILqR2W0wdIjlC/NLa",
      "include_colab_link": true
    },
    "kernelspec": {
      "name": "python3",
      "display_name": "Python 3"
    },
    "language_info": {
      "name": "python"
    }
  },
  "cells": [
    {
      "cell_type": "markdown",
      "metadata": {
        "id": "view-in-github",
        "colab_type": "text"
      },
      "source": [
        "<a href=\"https://colab.research.google.com/github/JoyDantas/Estudos_Colab/blob/main/Functiond.ipynb\" target=\"_parent\"><img src=\"https://colab.research.google.com/assets/colab-badge.svg\" alt=\"Open In Colab\"/></a>"
      ]
    },
    {
      "cell_type": "code",
      "metadata": {
        "id": "oMk_w5b220Pb"
      },
      "source": [
        "## duas lista\n",
        "\n",
        "a = [1,2,3,4,5]\n",
        "b = [6,7,8,9,10]"
      ],
      "execution_count": null,
      "outputs": []
    },
    {
      "cell_type": "code",
      "metadata": {
        "id": "jZqHXsT94zJa"
      },
      "source": [
        "c = [] ## lista vazia\n",
        "\n",
        "## for que adiciona (append) a soma dos elementos a e b na lista c \n",
        "\n",
        "for a_elem, b_elem in zip(a,b):\n",
        "  c.append(a_elem + b_elem)"
      ],
      "execution_count": null,
      "outputs": []
    },
    {
      "cell_type": "code",
      "metadata": {
        "colab": {
          "base_uri": "https://localhost:8080/"
        },
        "id": "XBbzwUfS5BtV",
        "outputId": "cc9473ee-aae3-47d1-f0f4-efbbe321e87e"
      },
      "source": [
        "print(c)"
      ],
      "execution_count": null,
      "outputs": [
        {
          "output_type": "stream",
          "name": "stdout",
          "text": [
            "[7, 9, 11, 13, 15]\n"
          ]
        }
      ]
    },
    {
      "cell_type": "markdown",
      "metadata": {
        "id": "H1_AO-7P7aUZ"
      },
      "source": [
        "Fazendo o mesmo, mas utilizando função "
      ]
    },
    {
      "cell_type": "code",
      "metadata": {
        "id": "pTRW3aF-5N1G"
      },
      "source": [
        "# note que utilizamos duas vezes o : para a função e para o for\n",
        "\n",
        "def add_elem (x,y):\n",
        "  z = []\n",
        "  for x_elem, y_elem in zip(x,y):\n",
        "    z.append(x_elem + y_elem)\n",
        "  return z "
      ],
      "execution_count": null,
      "outputs": []
    },
    {
      "cell_type": "code",
      "metadata": {
        "colab": {
          "base_uri": "https://localhost:8080/"
        },
        "id": "HVjlvIAm79_Q",
        "outputId": "96eba4ac-4822-4664-ed00-e66a4e5a35eb"
      },
      "source": [
        "## agora utilizando a função \n",
        "add_elem(a,b)"
      ],
      "execution_count": null,
      "outputs": [
        {
          "output_type": "execute_result",
          "data": {
            "text/plain": [
              "[7, 9, 11, 13, 15]"
            ]
          },
          "metadata": {},
          "execution_count": 6
        }
      ]
    }
  ]
}